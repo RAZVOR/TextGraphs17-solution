{
 "cells": [
  {
   "cell_type": "code",
   "execution_count": 1,
   "id": "7aa47c68-ba90-4315-9b7a-ef43b9a6b492",
   "metadata": {},
   "outputs": [
    {
     "name": "stderr",
     "output_type": "stream",
     "text": [
      "/home/razvor/anaconda3/envs/unsloth_env/lib/python3.10/site-packages/tqdm/auto.py:21: TqdmWarning: IProgress not found. Please update jupyter and ipywidgets. See https://ipywidgets.readthedocs.io/en/stable/user_install.html\n",
      "  from .autonotebook import tqdm as notebook_tqdm\n"
     ]
    }
   ],
   "source": [
    "%load_ext autoreload\n",
    "%autoreload 2\n",
    "\n",
    "import pandas as pd\n",
    "from torch.utils.data import Dataset\n",
    "import torch\n",
    "import os\n",
    "import random\n",
    "import numpy as np\n",
    "from torch import nn\n",
    "from typing import Dict, Optional, Tuple, List\n",
    "from transformers import AutoTokenizer, AutoModel\n",
    "from torch.utils.data import Dataset, random_split\n",
    "import torch.optim as optim\n",
    "from tqdm import tqdm\n",
    "from sklearn.metrics import precision_score, f1_score, recall_score, classification_report\n",
    "\n",
    "import time\n",
    "import math\n",
    "import matplotlib\n",
    "matplotlib.rcParams.update({'figure.figsize': (16, 12), 'font.size': 14})\n",
    "import matplotlib.pyplot as plt\n",
    "%matplotlib inline\n",
    "from IPython.display import clear_output\n",
    "\n",
    "import gc\n",
    "\n",
    "from src.data_loader import *\n",
    "from src.qa_dataset import *\n",
    "from src.train import *\n",
    "from src.classifiers import *\n",
    "from src.graph import *"
   ]
  },
  {
   "cell_type": "code",
   "execution_count": 2,
   "id": "52036ca3-e7df-4ff0-9c3f-3d24098b7a62",
   "metadata": {},
   "outputs": [],
   "source": [
    "SEED = 42\n",
    "\n",
    "torch.manual_seed(SEED)\n",
    "torch.random.manual_seed(SEED)\n",
    "os.environ['PYTHONHASHSEED'] = str(SEED)\n",
    "random.seed(SEED)\n",
    "np.random.seed(SEED)\n",
    "torch.cuda.random.manual_seed(SEED)\n",
    "torch.cuda.random.manual_seed_all(SEED)\n",
    "torch.backends.cudnn.deterministic = True"
   ]
  },
  {
   "cell_type": "code",
   "execution_count": 3,
   "id": "856e8de8-8c9a-4b87-aa9e-5e6b032bb5e3",
   "metadata": {},
   "outputs": [],
   "source": [
    "device = \"cuda\" if torch.cuda.is_available() else \"cpu\""
   ]
  },
  {
   "cell_type": "code",
   "execution_count": 4,
   "id": "81b42f60-3cc6-4e92-9bea-2cc3bce06706",
   "metadata": {},
   "outputs": [],
   "source": [
    "gc.collect()\n",
    "torch.cuda.empty_cache()"
   ]
  },
  {
   "cell_type": "markdown",
   "id": "b7ece140-04d6-4fd5-a7e0-a63326844397",
   "metadata": {},
   "source": [
    "## Load data"
   ]
  },
  {
   "cell_type": "code",
   "execution_count": 5,
   "id": "0ad14d2c-c7d1-4a04-8ee8-e57273fb301c",
   "metadata": {},
   "outputs": [
    {
     "name": "stdout",
     "output_type": "stream",
     "text": [
      "Questions: train - 3181, dev - 354, test - 1000\n",
      "Train: (33911, 10)\n",
      "Dev: (3761, 10)\n",
      "Test: (10961, 7)\n"
     ]
    },
    {
     "name": "stderr",
     "output_type": "stream",
     "text": [
      "/mnt/c/Users/razvor/Documents/DS/Skoltech/NLP course/TextGraphs17-shared-task-main/my_experiments/src/data_loader.py:42: SettingWithCopyWarning: \n",
      "A value is trying to be set on a copy of a slice from a DataFrame.\n",
      "Try using .loc[row_indexer,col_indexer] = value instead\n",
      "\n",
      "See the caveats in the documentation: https://pandas.pydata.org/pandas-docs/stable/user_guide/indexing.html#returning-a-view-versus-a-copy\n",
      "  train_df[\"label\"] = train_df[\"correct\"].astype(np.float32)\n",
      "/mnt/c/Users/razvor/Documents/DS/Skoltech/NLP course/TextGraphs17-shared-task-main/my_experiments/src/data_loader.py:43: SettingWithCopyWarning: \n",
      "A value is trying to be set on a copy of a slice from a DataFrame.\n",
      "Try using .loc[row_indexer,col_indexer] = value instead\n",
      "\n",
      "See the caveats in the documentation: https://pandas.pydata.org/pandas-docs/stable/user_guide/indexing.html#returning-a-view-versus-a-copy\n",
      "  dev_df[\"label\"] = dev_df[\"correct\"].astype(np.float32)\n",
      "/mnt/c/Users/razvor/Documents/DS/Skoltech/NLP course/TextGraphs17-shared-task-main/my_experiments/src/data_loader.py:46: SettingWithCopyWarning: \n",
      "A value is trying to be set on a copy of a slice from a DataFrame.\n",
      "Try using .loc[row_indexer,col_indexer] = value instead\n",
      "\n",
      "See the caveats in the documentation: https://pandas.pydata.org/pandas-docs/stable/user_guide/indexing.html#returning-a-view-versus-a-copy\n",
      "  train_df[\"graph\"] = train_df[\"graph\"].apply(eval)\n",
      "/mnt/c/Users/razvor/Documents/DS/Skoltech/NLP course/TextGraphs17-shared-task-main/my_experiments/src/data_loader.py:47: SettingWithCopyWarning: \n",
      "A value is trying to be set on a copy of a slice from a DataFrame.\n",
      "Try using .loc[row_indexer,col_indexer] = value instead\n",
      "\n",
      "See the caveats in the documentation: https://pandas.pydata.org/pandas-docs/stable/user_guide/indexing.html#returning-a-view-versus-a-copy\n",
      "  dev_df[\"graph\"] = dev_df[\"graph\"].apply(eval)\n"
     ]
    }
   ],
   "source": [
    "train_dev_path = \"../data/tsv/train.tsv\"\n",
    "test_path = \"../data/tsv/test.tsv\"\n",
    "\n",
    "train_df, dev_df, test_df = load_and_split(train_dev_path, test_path)"
   ]
  },
  {
   "cell_type": "code",
   "execution_count": 6,
   "id": "0c5ac23b-8b92-457e-8b0e-7d12dad485db",
   "metadata": {},
   "outputs": [
    {
     "data": {
      "text/plain": [
       "[{'name_': 'P17', 'source': 0, 'target': 0, 'label': 'country'},\n",
       " {'name_': 'P35', 'source': 0, 'target': 1, 'label': 'head of state'},\n",
       " {'name_': 'P27', 'source': 1, 'target': 0, 'label': 'country of citizenship'}]"
      ]
     },
     "execution_count": 6,
     "metadata": {},
     "output_type": "execute_result"
    }
   ],
   "source": [
    "train_df.loc[2, \"graph\"]['links']"
   ]
  },
  {
   "cell_type": "code",
   "execution_count": 7,
   "id": "76fa3fcf-1081-4850-99f7-d6f402d1c6ff",
   "metadata": {},
   "outputs": [],
   "source": [
    "#sep = tokenizer.sep_token\n",
    "sep = '|'\n",
    "linearize_graph = linearize_graph_gen(sep)\n",
    "train_df[\"linearized_graph\"] = train_df[\"graph\"].apply(linearize_graph)\n",
    "dev_df[\"linearized_graph\"] = dev_df[\"graph\"].apply(linearize_graph)\n",
    "test_df[\"linearized_graph\"] = test_df[\"graph\"].apply(linearize_graph)"
   ]
  },
  {
   "cell_type": "code",
   "execution_count": 8,
   "id": "12ab0f8f-64aa-46aa-9943-f558773b0de2",
   "metadata": {},
   "outputs": [],
   "source": [
    "train_df[\"num_internal\"] = train_df[\"graph\"].apply(get_graph_num_internal)\n",
    "dev_df[\"num_internal\"] = dev_df[\"graph\"].apply(get_graph_num_internal)\n",
    "test_df[\"num_internal\"] = test_df[\"graph\"].apply(get_graph_num_internal)\n",
    "\n",
    "train_df[\"num_links\"] = train_df[\"graph\"].apply(get_num_links)\n",
    "dev_df[\"num_links\"] = dev_df[\"graph\"].apply(get_num_links)\n",
    "test_df[\"num_links\"] = test_df[\"graph\"].apply(get_num_links)"
   ]
  },
  {
   "cell_type": "code",
   "execution_count": 9,
   "id": "d799322b-0264-4e94-b0d7-4a0e81dab005",
   "metadata": {},
   "outputs": [],
   "source": [
    "#train_df.to_csv('./data/train.csv', index=False)\n",
    "#dev_df.to_csv('./data/dev.csv', index=False)\n",
    "#test_df.to_csv('./data/test.csv', index=False)"
   ]
  },
  {
   "cell_type": "markdown",
   "id": "b445d6c4-ab52-4a7e-92d7-e7dabc7594ed",
   "metadata": {},
   "source": [
    "## Init model"
   ]
  },
  {
   "cell_type": "code",
   "execution_count": 10,
   "id": "89bf1784-2291-4d14-b129-dfce12a65abe",
   "metadata": {},
   "outputs": [
    {
     "name": "stdout",
     "output_type": "stream",
     "text": [
      "# Trainable params:  14766720\n"
     ]
    }
   ],
   "source": [
    "model_name=\"sentence-transformers/all-mpnet-base-v2\"\n",
    "\n",
    "tokenizer = AutoTokenizer.from_pretrained(model_name)\n",
    "bert_model = AutoModel.from_pretrained(model_name)\n",
    "\n",
    "freeze_embeddings = True\n",
    "if freeze_embeddings:\n",
    "    for param in bert_model.embeddings.parameters():\n",
    "        param.requires_grad = False\n",
    "\n",
    "freeze_layer_count = 10\n",
    "if freeze_layer_count > 0:\n",
    "    for layer in bert_model.encoder.layer[:freeze_layer_count]:\n",
    "        for param in layer.parameters():\n",
    "            param.requires_grad = False\n",
    "\n",
    "print(\"# Trainable params: \", sum(p.numel() for p in bert_model.parameters() if p.requires_grad))"
   ]
  },
  {
   "cell_type": "code",
   "execution_count": null,
   "id": "048847d6-a1b0-4a52-9f23-fff1d4a46bd1",
   "metadata": {},
   "outputs": [],
   "source": []
  },
  {
   "cell_type": "code",
   "execution_count": null,
   "id": "7fc8e32c-6a19-4e3e-80ed-8d0a05fd684b",
   "metadata": {},
   "outputs": [],
   "source": []
  },
  {
   "cell_type": "code",
   "execution_count": 21,
   "id": "d57fb239-d320-4cd4-8e29-cf48b32eec19",
   "metadata": {},
   "outputs": [],
   "source": [
    "max_length = 256\n",
    "train_dataset = QuestionAnswerDataset(train_df, tokenizer=tokenizer, max_length=max_length, context_key=\"linearized_graph\",\n",
    "                                      tokenizer_truncation=\"only_second\", add_meta = None)\n",
    "dev_dataset = QuestionAnswerDataset(dev_df, tokenizer=tokenizer, max_length=max_length, context_key=\"linearized_graph\",\n",
    "                                    tokenizer_truncation=\"only_second\", add_meta = None)\n",
    "test_dataset = QuestionAnswerDataset(test_df, tokenizer=tokenizer, max_length=max_length, context_key=\"linearized_graph\",\n",
    "                                     tokenizer_truncation=\"only_second\", add_meta = None)"
   ]
  },
  {
   "cell_type": "code",
   "execution_count": 12,
   "id": "9219c7cc-600a-443e-9fc6-91f7de0f2260",
   "metadata": {},
   "outputs": [
    {
     "name": "stdout",
     "output_type": "stream",
     "text": [
      " <s> whst is the name of the head of state and highest ranking political and religious authority in iran ? </s> </s> iran , country , iran iran , replaces , pahlavi dynasty pahlavi dynasty , replaced by , iran | ruhollah khomeini ' s return to iran | , country , pahlavi dynasty </s> <pad> <pad> <pad> <pad> <pad> <pad> <pad> <pad> <pad> <pad> <pad> <pad> <pad> <pad> <pad> <pad> <pad> <pad> <pad> <pad> <pad> <pad> <pad> <pad> <pad> <pad> <pad> <pad> <pad> <pad> <pad> <pad> <pad> <pad> <pad> <pad> <pad> <pad> <pad> <pad> <pad> <pad> <pad> <pad> <pad> <pad> <pad> <pad> <pad> <pad> <pad> <pad> <pad> <pad> <pad> <pad> <pad> <pad> <pad> <pad> <pad> <pad> <pad> <pad> <pad> <pad> <pad> <pad> <pad> <pad> <pad> <pad> <pad> <pad> <pad> <pad> <pad> <pad> <pad> <pad> <pad> <pad> <pad> <pad> <pad> <pad> <pad> <pad> <pad> <pad> <pad> <pad> <pad> <pad> <pad> <pad> <pad> <pad> <pad> <pad> <pad> <pad> <pad> <pad> <pad> <pad> <pad> <pad> <pad> <pad> <pad> <pad> <pad> <pad> <pad> <pad> <pad> <pad> <pad> <pad> <pad> <pad> <pad> <pad> <pad> <pad> <pad> <pad> <pad> <pad> <pad> <pad> <pad> <pad> <pad> <pad> <pad> <pad> <pad> <pad> <pad> <pad> <pad> <pad> <pad> <pad> <pad> <pad> <pad> <pad> <pad> <pad> <pad> <pad> <pad> <pad> <pad> <pad> <pad> <pad> <pad> <pad> <pad> <pad> <pad> <pad> <pad> <pad> <pad> <pad> <pad> <pad> <pad> <pad> <pad> <pad> <pad> <pad> <pad> <pad> <pad> <pad> <pad> <pad> <pad> <pad> <pad> <pad>\n",
      " <s> whose assassination sparked the beginning of world war i ? </s> </s> world war i , has immediate cause , | assassination of archduke franz ferdinand | | assassination of archduke franz ferdinand | , immediate cause of , world war i </s> <pad> <pad> <pad> <pad> <pad> <pad> <pad> <pad> <pad> <pad> <pad> <pad> <pad> <pad> <pad> <pad> <pad> <pad> <pad> <pad> <pad> <pad> <pad> <pad> <pad> <pad> <pad> <pad> <pad> <pad> <pad> <pad> <pad> <pad> <pad> <pad> <pad> <pad> <pad> <pad> <pad> <pad> <pad> <pad> <pad> <pad> <pad> <pad> <pad> <pad> <pad> <pad> <pad> <pad> <pad> <pad> <pad> <pad> <pad> <pad> <pad> <pad> <pad> <pad> <pad> <pad> <pad> <pad> <pad> <pad> <pad> <pad> <pad> <pad> <pad> <pad> <pad> <pad> <pad> <pad> <pad> <pad> <pad> <pad> <pad> <pad> <pad> <pad> <pad> <pad> <pad> <pad> <pad> <pad> <pad> <pad> <pad> <pad> <pad> <pad> <pad> <pad> <pad> <pad> <pad> <pad> <pad> <pad> <pad> <pad> <pad> <pad> <pad> <pad> <pad> <pad> <pad> <pad> <pad> <pad> <pad> <pad> <pad> <pad> <pad> <pad> <pad> <pad> <pad> <pad> <pad> <pad> <pad> <pad> <pad> <pad> <pad> <pad> <pad> <pad> <pad> <pad> <pad> <pad> <pad> <pad> <pad> <pad> <pad> <pad> <pad> <pad> <pad> <pad> <pad> <pad> <pad> <pad> <pad> <pad> <pad> <pad> <pad> <pad> <pad> <pad> <pad> <pad> <pad> <pad> <pad> <pad> <pad> <pad> <pad> <pad> <pad> <pad> <pad> <pad> <pad> <pad> <pad> <pad> <pad> <pad> <pad> <pad> <pad> <pad> <pad> <pad> <pad> <pad> <pad> <pad> <pad> <pad> <pad> <pad> <pad> <pad> <pad> <pad> <pad> <pad> <pad> <pad> <pad> <pad> <pad> <pad>\n",
      " <s> after publishing a time to kill , which book did its author begin working on immediately ? </s> </s> united states , country , united states | a clash of kings | , country of origin , united states a time to kill , country of origin , united states </s> <pad> <pad> <pad> <pad> <pad> <pad> <pad> <pad> <pad> <pad> <pad> <pad> <pad> <pad> <pad> <pad> <pad> <pad> <pad> <pad> <pad> <pad> <pad> <pad> <pad> <pad> <pad> <pad> <pad> <pad> <pad> <pad> <pad> <pad> <pad> <pad> <pad> <pad> <pad> <pad> <pad> <pad> <pad> <pad> <pad> <pad> <pad> <pad> <pad> <pad> <pad> <pad> <pad> <pad> <pad> <pad> <pad> <pad> <pad> <pad> <pad> <pad> <pad> <pad> <pad> <pad> <pad> <pad> <pad> <pad> <pad> <pad> <pad> <pad> <pad> <pad> <pad> <pad> <pad> <pad> <pad> <pad> <pad> <pad> <pad> <pad> <pad> <pad> <pad> <pad> <pad> <pad> <pad> <pad> <pad> <pad> <pad> <pad> <pad> <pad> <pad> <pad> <pad> <pad> <pad> <pad> <pad> <pad> <pad> <pad> <pad> <pad> <pad> <pad> <pad> <pad> <pad> <pad> <pad> <pad> <pad> <pad> <pad> <pad> <pad> <pad> <pad> <pad> <pad> <pad> <pad> <pad> <pad> <pad> <pad> <pad> <pad> <pad> <pad> <pad> <pad> <pad> <pad> <pad> <pad> <pad> <pad> <pad> <pad> <pad> <pad> <pad> <pad> <pad> <pad> <pad> <pad> <pad> <pad> <pad> <pad> <pad> <pad> <pad> <pad> <pad> <pad> <pad> <pad> <pad> <pad> <pad> <pad> <pad> <pad> <pad> <pad> <pad> <pad> <pad> <pad> <pad> <pad> <pad> <pad> <pad> <pad> <pad> <pad> <pad> <pad> <pad> <pad> <pad> <pad> <pad> <pad> <pad> <pad> <pad> <pad> <pad> <pad> <pad>\n",
      "---\n",
      " <s> whst is the name of the head of state and highest ranking political and religious authority in iran ? </s> </s> iran , described by source , jewish encyclopedia of brockhaus and efron iran , country , iran letter , described by source , jewish encyclopedia of brockhaus and efron letter , subclass of , written work the book of healing , country of origin , iran the book of healing , instance of , written work | ruhollah khomeini ' s letter to mikhail gorbachev | , instance of , written work | ruhollah khomeini ' s letter to mikhail gorbachev | , instance of , letter </s> <pad> <pad> <pad> <pad> <pad> <pad> <pad> <pad> <pad> <pad> <pad> <pad> <pad> <pad> <pad> <pad> <pad> <pad> <pad> <pad> <pad> <pad> <pad> <pad> <pad> <pad> <pad> <pad> <pad> <pad> <pad> <pad> <pad> <pad> <pad> <pad> <pad> <pad> <pad> <pad> <pad> <pad> <pad> <pad> <pad> <pad> <pad> <pad> <pad> <pad> <pad> <pad> <pad> <pad> <pad> <pad> <pad> <pad> <pad> <pad> <pad> <pad> <pad> <pad> <pad> <pad> <pad> <pad> <pad> <pad> <pad> <pad> <pad> <pad> <pad> <pad> <pad> <pad> <pad> <pad> <pad> <pad> <pad> <pad> <pad> <pad> <pad> <pad> <pad> <pad> <pad> <pad> <pad> <pad> <pad> <pad> <pad> <pad> <pad> <pad> <pad> <pad> <pad> <pad> <pad> <pad> <pad> <pad> <pad> <pad> <pad> <pad> <pad> <pad> <pad> <pad> <pad> <pad> <pad> <pad> <pad> <pad> <pad>\n",
      " <s> whose assassination sparked the beginning of world war i ? </s> </s> latin script , on focus list of wikimedia project , wikipedia : vital articles / level / 4 world war i , on focus list of wikimedia project , wikipedia : vital articles / level / 4 | franz - joseph | , writing system , latin script </s> <pad> <pad> <pad> <pad> <pad> <pad> <pad> <pad> <pad> <pad> <pad> <pad> <pad> <pad> <pad> <pad> <pad> <pad> <pad> <pad> <pad> <pad> <pad> <pad> <pad> <pad> <pad> <pad> <pad> <pad> <pad> <pad> <pad> <pad> <pad> <pad> <pad> <pad> <pad> <pad> <pad> <pad> <pad> <pad> <pad> <pad> <pad> <pad> <pad> <pad> <pad> <pad> <pad> <pad> <pad> <pad> <pad> <pad> <pad> <pad> <pad> <pad> <pad> <pad> <pad> <pad> <pad> <pad> <pad> <pad> <pad> <pad> <pad> <pad> <pad> <pad> <pad> <pad> <pad> <pad> <pad> <pad> <pad> <pad> <pad> <pad> <pad> <pad> <pad> <pad> <pad> <pad> <pad> <pad> <pad> <pad> <pad> <pad> <pad> <pad> <pad> <pad> <pad> <pad> <pad> <pad> <pad> <pad> <pad> <pad> <pad> <pad> <pad> <pad> <pad> <pad> <pad> <pad> <pad> <pad> <pad> <pad> <pad> <pad> <pad> <pad> <pad> <pad> <pad> <pad> <pad> <pad> <pad> <pad> <pad> <pad> <pad> <pad> <pad> <pad> <pad> <pad> <pad> <pad> <pad> <pad> <pad> <pad> <pad> <pad> <pad> <pad> <pad> <pad> <pad> <pad> <pad> <pad> <pad> <pad> <pad> <pad> <pad> <pad> <pad> <pad> <pad> <pad> <pad> <pad> <pad> <pad> <pad> <pad> <pad> <pad> <pad> <pad> <pad> <pad> <pad> <pad> <pad> <pad> <pad> <pad> <pad> <pad>\n",
      " <s> after publishing a time to kill , which book did its author begin working on immediately ? </s> </s> united states , country , united states | a feast for crows | , country of origin , united states a time to kill , country of origin , united states </s> <pad> <pad> <pad> <pad> <pad> <pad> <pad> <pad> <pad> <pad> <pad> <pad> <pad> <pad> <pad> <pad> <pad> <pad> <pad> <pad> <pad> <pad> <pad> <pad> <pad> <pad> <pad> <pad> <pad> <pad> <pad> <pad> <pad> <pad> <pad> <pad> <pad> <pad> <pad> <pad> <pad> <pad> <pad> <pad> <pad> <pad> <pad> <pad> <pad> <pad> <pad> <pad> <pad> <pad> <pad> <pad> <pad> <pad> <pad> <pad> <pad> <pad> <pad> <pad> <pad> <pad> <pad> <pad> <pad> <pad> <pad> <pad> <pad> <pad> <pad> <pad> <pad> <pad> <pad> <pad> <pad> <pad> <pad> <pad> <pad> <pad> <pad> <pad> <pad> <pad> <pad> <pad> <pad> <pad> <pad> <pad> <pad> <pad> <pad> <pad> <pad> <pad> <pad> <pad> <pad> <pad> <pad> <pad> <pad> <pad> <pad> <pad> <pad> <pad> <pad> <pad> <pad> <pad> <pad> <pad> <pad> <pad> <pad> <pad> <pad> <pad> <pad> <pad> <pad> <pad> <pad> <pad> <pad> <pad> <pad> <pad> <pad> <pad> <pad> <pad> <pad> <pad> <pad> <pad> <pad> <pad> <pad> <pad> <pad> <pad> <pad> <pad> <pad> <pad> <pad> <pad> <pad> <pad> <pad> <pad> <pad> <pad> <pad> <pad> <pad> <pad> <pad> <pad> <pad> <pad> <pad> <pad> <pad> <pad> <pad> <pad> <pad> <pad> <pad> <pad> <pad> <pad> <pad> <pad> <pad> <pad> <pad> <pad> <pad> <pad> <pad> <pad> <pad> <pad> <pad> <pad> <pad> <pad> <pad> <pad> <pad> <pad> <pad> <pad>\n",
      "---\n"
     ]
    }
   ],
   "source": [
    "idx_bound = 2\n",
    "for i in range(idx_bound):\n",
    "    d = train_dataset[i]\n",
    "    inp_ids = d[\"input_ids\"]\n",
    "    tokens = tokenizer.convert_ids_to_tokens(inp_ids)\n",
    "    s = \"\".join((x.strip(\"#\") if x.startswith(\"#\") else f\" {x}\" for x in tokens))\n",
    "    print(s)\n",
    "    d = dev_dataset[i]\n",
    "    inp_ids = d[\"input_ids\"]\n",
    "    tokens = tokenizer.convert_ids_to_tokens(inp_ids)\n",
    "    s = \"\".join((x.strip(\"#\") if x.startswith(\"#\") else f\" {x}\" for x in tokens))\n",
    "    print(s)\n",
    "    d = test_dataset[i]\n",
    "    inp_ids = d[\"input_ids\"]\n",
    "    tokens = tokenizer.convert_ids_to_tokens(inp_ids)\n",
    "    s = \"\".join((x.strip(\"#\") if x.startswith(\"#\") else f\" {x}\" for x in tokens))\n",
    "    print(s)\n",
    "    print('---')"
   ]
  },
  {
   "cell_type": "code",
   "execution_count": 12,
   "id": "4fd47396-6b32-4416-a718-daeefcd71e64",
   "metadata": {},
   "outputs": [
    {
     "data": {
      "text/plain": [
       "\" Iran, country, Iran  Iran, replaces, Pahlavi dynasty  Pahlavi dynasty, replaced by, Iran  </s> Ruhollah Khomeini's return to Iran </s>, country, Pahlavi dynasty \\n(*)  Iran, described by source, Jewish Encyclopedia of Brockhaus and Efron  Iran, country, Iran  letter, described by source, Jewish Encyclopedia of Brockhaus and Efron  letter, subclass of, written work  The Book of Healing, country of origin, Iran  The Book of Healing, instance of, written work  </s> Ruhollah Khomeini's letter to Mikhail Gorbachev </s>, instance of, written work  </s> Ruhollah Khomeini's letter to Mikhail Gorbachev </s>, instance of, letter \\n(*)  Iran, country, Iran  Iran, head of state, </s> Ruhollah Khomeini </s>  </s> Ruhollah Khomeini </s>, country of citizenship, Iran \\n(*)  Iran, country, Iran  </s> Office of the Supreme Leader of Iran </s>, different from, Imam Khomeini Hussainiya  Imam Khomeini Hussainiya, country, Iran  Imam Khomeini Hussainiya, part of, </s> Office of the Supreme Leader of Iran </s> \\n(*)  Iran, country, Iran  </s> Mohammad Reza Pahlavi and Soraya </s>, has part(s), Soraya Esfandiari-Bakhtiari  Soraya Esfandiari-Bakhtiari, country of citizenship, Iran  Soraya Esfandiari-Bakhtiari, part of, </s> Mohammad Reza Pahlavi and Soraya </s> \\n(*)  Iran, country, Iran  Iran, head of government, </s> Mahmoud Ahmadinejad </s>  </s> Mahmoud Ahmadinejad </s>, country of citizenship, Iran \\n(*)  Iran, country, Iran  Iran, head of government, </s> Hassan Rouhani </s>  </s> Hassan Rouhani </s>, country of citizenship, Iran \\n(*)  Iran, country, Iran  The burden of disease and injury in Iran 2003., instance of, scholarly article  The burden of disease and injury in Iran 2003., main subject, Iran  </s> Ayatollah Khamenei's Foreign Policy Orientation </s>, instance of, scholarly article \\n(*)  English, described by source, Small Brockhaus and Efron Encyclopedic Dictionary  Iran, described by source, Small Brockhaus and Efron Encyclopedic Dictionary  Iran, country, Iran  </s> Ayatollah Ali Khamenei speaks about Iranian presidential election protests at prayers </s>, language of work or name, English \\n(*)  Iran, country, Iran  Iran, head of government, Ali Khamenei  Ali Khamenei, country of citizenship, Iran  </s> Ali Khamenei bibliography </s>, facet of, Ali Khamenei \""
      ]
     },
     "execution_count": 12,
     "metadata": {},
     "output_type": "execute_result"
    }
   ],
   "source": [
    "\"\"\"\n",
    "(*) \"\"\".join(train_df.head(10).linearized_graph.tolist())"
   ]
  },
  {
   "cell_type": "code",
   "execution_count": 22,
   "id": "35e494da-7ab9-4e84-9500-c55ed475a484",
   "metadata": {},
   "outputs": [],
   "source": [
    "batch_size = 64\n",
    "num_workers = 0\n",
    "\n",
    "train_loader = torch.utils.data.DataLoader(\n",
    "    train_dataset, batch_size=batch_size, num_workers=num_workers, shuffle=True, drop_last=True,\n",
    ")\n",
    "dev_loader = torch.utils.data.DataLoader(\n",
    "    dev_dataset, batch_size=batch_size, num_workers=num_workers, shuffle=False, drop_last=False,\n",
    ")\n",
    "test_loader = torch.utils.data.DataLoader(\n",
    "    test_dataset, batch_size=batch_size, num_workers=num_workers, shuffle=False, drop_last=False,\n",
    ")"
   ]
  },
  {
   "cell_type": "code",
   "execution_count": 23,
   "id": "08e74aac-46f5-4bf1-b513-6012687a8dd5",
   "metadata": {},
   "outputs": [
    {
     "data": {
      "text/plain": [
       "'</s>'"
      ]
     },
     "execution_count": 23,
     "metadata": {},
     "output_type": "execute_result"
    }
   ],
   "source": [
    "tokenizer.sep_token"
   ]
  },
  {
   "cell_type": "markdown",
   "id": "041148fb-b271-41d4-b37b-9b24fdae559c",
   "metadata": {},
   "source": [
    "## Train"
   ]
  },
  {
   "cell_type": "code",
   "execution_count": 24,
   "id": "847350b1-ce0c-4c20-ac63-82679ba5331c",
   "metadata": {},
   "outputs": [],
   "source": [
    "N_EPOCHS = 3\n",
    "DROPOUT = 0.1"
   ]
  },
  {
   "cell_type": "code",
   "execution_count": 30,
   "id": "34442b98-0910-41b0-94f8-3ddfc01d7209",
   "metadata": {},
   "outputs": [],
   "source": [
    "bert_linearized_graph_clf = BertSimpleClassifier(bert_model, dropout=DROPOUT, add_meta = None).to(device)\n",
    "optimizer = optim.Adam(bert_linearized_graph_clf.parameters(), lr=3e-5)\n",
    "criterion = nn.BCEWithLogitsLoss()"
   ]
  },
  {
   "cell_type": "code",
   "execution_count": null,
   "id": "469285cb-7f86-4d4f-acca-c0e68b95ba71",
   "metadata": {},
   "outputs": [],
   "source": []
  },
  {
   "cell_type": "code",
   "execution_count": null,
   "id": "f0d2f186-477c-4766-83e6-b7c21dd2556c",
   "metadata": {},
   "outputs": [],
   "source": [
    "train_evaluate(bert_linearized_graph_clf, train_loader, dev_loader, optimizer,\n",
    "               criterion, N_EPOCHS, \"bert_linearized_graph_clf\", device)"
   ]
  },
  {
   "cell_type": "code",
   "execution_count": null,
   "id": "3845fa3f-2ca5-448d-9426-d6095ce1a6ac",
   "metadata": {},
   "outputs": [],
   "source": []
  },
  {
   "cell_type": "code",
   "execution_count": null,
   "id": "98d7cbb1-47ca-4abd-9ac7-39e2c9605b99",
   "metadata": {},
   "outputs": [],
   "source": []
  },
  {
   "cell_type": "markdown",
   "id": "839190b6-b4af-4289-9aff-8a83dcffa86b",
   "metadata": {},
   "source": [
    "## Evaluate on dev"
   ]
  },
  {
   "cell_type": "code",
   "execution_count": 35,
   "id": "9c2c1289-8912-4542-bc58-a933593722c5",
   "metadata": {},
   "outputs": [
    {
     "name": "stdout",
     "output_type": "stream",
     "text": [
      "0.6713881019830028,0.6220472440944882,0.6457765667574932\n"
     ]
    }
   ],
   "source": [
    "true_labels, pred_labels = predict(bert_linearized_graph_clf, dev_loader, device)\n",
    "print(f\"{precision_score(true_labels, pred_labels)},{recall_score(true_labels, pred_labels)},{f1_score(true_labels, pred_labels)}\")"
   ]
  },
  {
   "cell_type": "code",
   "execution_count": 3,
   "id": "4471cc21-e942-4d01-9e06-59f8a88d9df7",
   "metadata": {},
   "outputs": [
    {
     "data": {
      "text/plain": [
       "102.32558139534885"
      ]
     },
     "execution_count": 3,
     "metadata": {},
     "output_type": "execute_result"
    }
   ],
   "source": [
    "0.66/0.645*100"
   ]
  },
  {
   "cell_type": "code",
   "execution_count": null,
   "id": "8660938f-b1a0-41ef-83fd-8ad73fe6c4c4",
   "metadata": {},
   "outputs": [],
   "source": []
  }
 ],
 "metadata": {
  "kernelspec": {
   "display_name": "Python 3 (ipykernel)",
   "language": "python",
   "name": "python3"
  },
  "language_info": {
   "codemirror_mode": {
    "name": "ipython",
    "version": 3
   },
   "file_extension": ".py",
   "mimetype": "text/x-python",
   "name": "python",
   "nbconvert_exporter": "python",
   "pygments_lexer": "ipython3",
   "version": "3.10.14"
  }
 },
 "nbformat": 4,
 "nbformat_minor": 5
}
