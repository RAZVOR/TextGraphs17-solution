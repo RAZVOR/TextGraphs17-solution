{
 "cells": [
  {
   "cell_type": "code",
   "execution_count": 1,
   "id": "74406d91-77ba-4fce-8210-b17bedb8bbe9",
   "metadata": {},
   "outputs": [
    {
     "name": "stderr",
     "output_type": "stream",
     "text": [
      "/home/razvor/anaconda3/envs/unsloth_env/lib/python3.10/site-packages/tqdm/auto.py:21: TqdmWarning: IProgress not found. Please update jupyter and ipywidgets. See https://ipywidgets.readthedocs.io/en/stable/user_install.html\n",
      "  from .autonotebook import tqdm as notebook_tqdm\n"
     ]
    }
   ],
   "source": [
    "%load_ext autoreload\n",
    "%autoreload 2\n",
    "\n",
    "import pandas as pd\n",
    "from torch.utils.data import Dataset\n",
    "import torch\n",
    "import os\n",
    "import random\n",
    "import numpy as np\n",
    "from torch import nn\n",
    "from typing import Dict, Optional, Tuple, List\n",
    "from transformers import AutoTokenizer, AutoModel\n",
    "from torch.utils.data import Dataset, random_split\n",
    "from datasets import Dataset as _Dataset, DatasetDict\n",
    "import torch.optim as optim\n",
    "from tqdm import tqdm\n",
    "from sklearn.metrics import precision_score, f1_score, recall_score, classification_report\n",
    "\n",
    "import time\n",
    "import math\n",
    "import matplotlib\n",
    "matplotlib.rcParams.update({'figure.figsize': (16, 12), 'font.size': 14})\n",
    "import matplotlib.pyplot as plt\n",
    "%matplotlib inline\n",
    "from IPython.display import clear_output\n",
    "\n",
    "import gc\n",
    "\n",
    "from src.data_loader import *\n",
    "from src.qa_dataset import *\n",
    "from src.train import *\n",
    "from src.classifiers import *\n",
    "from src.graph import *\n",
    "\n",
    "os.environ['WANDB_DISABLED'] = 'true'"
   ]
  },
  {
   "cell_type": "code",
   "execution_count": 2,
   "id": "6e0f1c40-4794-4818-9276-87b46a91df94",
   "metadata": {},
   "outputs": [],
   "source": [
    "device = \"cuda\" if torch.cuda.is_available() else \"cpu\""
   ]
  },
  {
   "cell_type": "code",
   "execution_count": 2,
   "id": "c0224aa0-793a-4ff2-b8ab-bac80beaf7c4",
   "metadata": {},
   "outputs": [
    {
     "name": "stdout",
     "output_type": "stream",
     "text": [
      "==((====))==  Unsloth: Fast Llama patching release 2024.4\n",
      "   \\\\   /|    GPU: NVIDIA GeForce RTX 4080 SUPER. Max memory: 15.992 GB. Platform = Linux.\n",
      "O^O/ \\_/ \\    Pytorch: 2.2.2. CUDA = 8.9. CUDA Toolkit = 12.1.\n",
      "\\        /    Bfloat16 = TRUE. Xformers = 0.0.25.post1. FA = True.\n",
      " \"-____-\"     Free Apache license: http://github.com/unslothai/unsloth\n"
     ]
    },
    {
     "name": "stderr",
     "output_type": "stream",
     "text": [
      "Unused kwargs: ['_load_in_4bit', '_load_in_8bit', 'quant_method']. These kwargs are not used in <class 'transformers.utils.quantization_config.BitsAndBytesConfig'>.\n",
      "Special tokens have been added in the vocabulary, make sure the associated word embeddings are fine-tuned or trained.\n",
      "Special tokens have been added in the vocabulary, make sure the associated word embeddings are fine-tuned or trained.\n",
      "Unsloth 2024.4 patched 32 layers with 32 QKV layers, 32 O layers and 32 MLP layers.\n"
     ]
    }
   ],
   "source": [
    "from unsloth import FastLanguageModel\n",
    "import torch\n",
    "max_seq_length = 2048 # Choose any! We auto support RoPE Scaling internally!\n",
    "dtype = None # None for auto detection. Float16 for Tesla T4, V100, Bfloat16 for Ampere+\n",
    "load_in_4bit = True # Use 4bit quantization to reduce memory usage. Can be False.\n",
    "\n",
    "model, tokenizer = FastLanguageModel.from_pretrained(\n",
    "    #model_name = \"unsloth/llama-3-8b-bnb-4bit\",\n",
    "    model_name = \"models/lora_model_0\",\n",
    "    max_seq_length = max_seq_length,\n",
    "    dtype = dtype,\n",
    "    load_in_4bit = load_in_4bit,\n",
    ")"
   ]
  },
  {
   "cell_type": "code",
   "execution_count": 3,
   "id": "783392f7-3bca-40aa-81bc-a7353212b81a",
   "metadata": {},
   "outputs": [],
   "source": [
    "train_df = pd.read_csv('./data/train.csv')\n",
    "dev_df = pd.read_csv('./data/dev.csv')\n",
    "test_df = pd.read_csv('./data/test.csv')"
   ]
  },
  {
   "cell_type": "code",
   "execution_count": null,
   "id": "212bc0fc-994c-4d52-9d7d-a04b5ace47b3",
   "metadata": {},
   "outputs": [],
   "source": []
  },
  {
   "cell_type": "code",
   "execution_count": 4,
   "id": "c2a39fb3-4698-45c1-a469-ab2787d6b70f",
   "metadata": {},
   "outputs": [],
   "source": [
    "alpaca_prompt = \"\"\"Below is an instruction that describes a task, paired with an input that provides further context. Write a response that appropriately completes the request.\n",
    "### Instruction:\n",
    "{}\n",
    "\n",
    "### Input:\n",
    "{}\n",
    "\n",
    "### Response:\n",
    "{}\"\"\"\n",
    "\n",
    "expert_instruction = \"Explain your answer briefly. No more than 20 words\""
   ]
  },
  {
   "cell_type": "code",
   "execution_count": 5,
   "id": "08f24325-d665-4ddf-a687-b8d80de5fcf8",
   "metadata": {
    "scrolled": true
   },
   "outputs": [],
   "source": [
    "def process_questions(questions):\n",
    "    return [\n",
    "        alpaca_prompt.format(expert_instruction, q, \"\")\n",
    "        for q in questions\n",
    "    ]\n",
    "\n",
    "def process_answers(questions, inputs, answers):\n",
    "    res = {}\n",
    "    for q, i, a in zip(questions, inputs, answers):\n",
    "        aa = a.\\\n",
    "            replace(tokenizer.pad_token, '').\\\n",
    "            replace('<|begin_of_text|>', '').\\\n",
    "            replace(i, '')\n",
    "\n",
    "        res[q] = aa\n",
    "\n",
    "    return res\n",
    "    "
   ]
  },
  {
   "cell_type": "code",
   "execution_count": 6,
   "id": "5f26ca45-c91c-4ebc-8002-919bbe06103f",
   "metadata": {},
   "outputs": [],
   "source": [
    "def run_batch_gen(input_q, input_texts, BS = 64):\n",
    "    tokenizer.pad_token = \"<|end_of_text|>\"\n",
    "    tokenizer.padding_side = \"left\"\n",
    "    \n",
    "    decoded_answers = []\n",
    "    \n",
    "    for batch_start in (tqdm(range(0, len(input_texts), BS))):\n",
    "        input_texts_i = input_texts[batch_start:batch_start+BS]\n",
    "        inputs = tokenizer(input_texts_i, return_tensors = \"pt\", padding = True).to(\"cuda\")\n",
    "        outputs = model.generate(**inputs, max_new_tokens = 256, use_cache = True, early_stopping=True, do_sample = True)\n",
    "        decoded = tokenizer.batch_decode(outputs)\n",
    "        decoded_answers += decoded\n",
    "\n",
    "    return process_answers(input_q, input_texts, decoded_answers)\n",
    "        "
   ]
  },
  {
   "cell_type": "code",
   "execution_count": 7,
   "id": "c77339fb-a383-4bc8-a778-5d0e3a2c7aa9",
   "metadata": {},
   "outputs": [
    {
     "data": {
      "text/plain": [
       "'input_texts = train_df.question.unique().tolist()\\ninput_texts = process_questions(input_texts)\\n\\ntokenizer.pad_token = \"<|end_of_text|>\"\\ntokenizer.padding_side = \"left\"\\n\\nBS = 50\\n\\ndecoded_answers = []\\n\\nfor batch_start in tqdm(tqdm(range(0, len(input_texts), BS))):\\n    input_texts_i = input_texts[batch_start:batch_start+BS]\\n    inputs = tokenizer(input_texts_i, return_tensors = \"pt\", padding = True).to(\"cuda\")\\n    outputs = model.generate(**inputs, max_new_tokens = 256, use_cache = True, early_stopping=True, do_sample = True)\\n    decoded = tokenizer.batch_decode(outputs)\\n    decoded_answers += decoded'"
      ]
     },
     "execution_count": 7,
     "metadata": {},
     "output_type": "execute_result"
    }
   ],
   "source": [
    "\"\"\"input_texts = train_df.question.unique().tolist()\n",
    "input_texts = process_questions(input_texts)\n",
    "\n",
    "tokenizer.pad_token = \"<|end_of_text|>\"\n",
    "tokenizer.padding_side = \"left\"\n",
    "\n",
    "BS = 50\n",
    "\n",
    "decoded_answers = []\n",
    "\n",
    "for batch_start in tqdm(tqdm(range(0, len(input_texts), BS))):\n",
    "    input_texts_i = input_texts[batch_start:batch_start+BS]\n",
    "    inputs = tokenizer(input_texts_i, return_tensors = \"pt\", padding = True).to(\"cuda\")\n",
    "    outputs = model.generate(**inputs, max_new_tokens = 256, use_cache = True, early_stopping=True, do_sample = True)\n",
    "    decoded = tokenizer.batch_decode(outputs)\n",
    "    decoded_answers += decoded\"\"\""
   ]
  },
  {
   "cell_type": "code",
   "execution_count": 8,
   "id": "a5a2bf6c-4abf-417b-bad2-34b65e9b00e1",
   "metadata": {},
   "outputs": [
    {
     "name": "stderr",
     "output_type": "stream",
     "text": [
      "  0%|                                                                                            | 0/50 [00:00<?, ?it/s]Setting `pad_token_id` to `eos_token_id`:128001 for open-end generation.\n",
      "  2%|█▋                                                                                  | 1/50 [00:21<17:45, 21.75s/it]Setting `pad_token_id` to `eos_token_id`:128001 for open-end generation.\n",
      "  4%|███▎                                                                                | 2/50 [00:48<19:46, 24.72s/it]Setting `pad_token_id` to `eos_token_id`:128001 for open-end generation.\n",
      "  6%|█████                                                                               | 3/50 [01:02<15:40, 20.00s/it]Setting `pad_token_id` to `eos_token_id`:128001 for open-end generation.\n",
      "  8%|██████▋                                                                             | 4/50 [01:24<15:43, 20.52s/it]Setting `pad_token_id` to `eos_token_id`:128001 for open-end generation.\n",
      " 10%|████████▍                                                                           | 5/50 [01:49<16:44, 22.32s/it]Setting `pad_token_id` to `eos_token_id`:128001 for open-end generation.\n",
      " 12%|██████████                                                                          | 6/50 [02:15<17:11, 23.45s/it]Setting `pad_token_id` to `eos_token_id`:128001 for open-end generation.\n",
      " 14%|███████████▊                                                                        | 7/50 [02:41<17:22, 24.25s/it]Setting `pad_token_id` to `eos_token_id`:128001 for open-end generation.\n",
      " 16%|█████████████▍                                                                      | 8/50 [03:06<17:12, 24.59s/it]Setting `pad_token_id` to `eos_token_id`:128001 for open-end generation.\n",
      " 18%|███████████████                                                                     | 9/50 [03:32<17:01, 24.92s/it]Setting `pad_token_id` to `eos_token_id`:128001 for open-end generation.\n",
      " 20%|████████████████▌                                                                  | 10/50 [03:57<16:41, 25.04s/it]Setting `pad_token_id` to `eos_token_id`:128001 for open-end generation.\n",
      " 22%|██████████████████▎                                                                | 11/50 [04:23<16:23, 25.21s/it]Setting `pad_token_id` to `eos_token_id`:128001 for open-end generation.\n",
      " 24%|███████████████████▉                                                               | 12/50 [04:49<16:08, 25.50s/it]Setting `pad_token_id` to `eos_token_id`:128001 for open-end generation.\n",
      " 26%|█████████████████████▌                                                             | 13/50 [05:08<14:37, 23.71s/it]Setting `pad_token_id` to `eos_token_id`:128001 for open-end generation.\n",
      " 28%|███████████████████████▏                                                           | 14/50 [05:34<14:33, 24.25s/it]Setting `pad_token_id` to `eos_token_id`:128001 for open-end generation.\n",
      " 30%|████████████████████████▉                                                          | 15/50 [05:58<14:11, 24.32s/it]Setting `pad_token_id` to `eos_token_id`:128001 for open-end generation.\n",
      " 32%|██████████████████████████▌                                                        | 16/50 [06:24<13:55, 24.57s/it]Setting `pad_token_id` to `eos_token_id`:128001 for open-end generation.\n",
      " 34%|████████████████████████████▏                                                      | 17/50 [06:48<13:27, 24.47s/it]Setting `pad_token_id` to `eos_token_id`:128001 for open-end generation.\n",
      " 36%|█████████████████████████████▉                                                     | 18/50 [07:13<13:08, 24.63s/it]Setting `pad_token_id` to `eos_token_id`:128001 for open-end generation.\n",
      " 38%|███████████████████████████████▌                                                   | 19/50 [07:34<12:07, 23.48s/it]Setting `pad_token_id` to `eos_token_id`:128001 for open-end generation.\n",
      " 40%|█████████████████████████████████▏                                                 | 20/50 [07:51<10:50, 21.68s/it]Setting `pad_token_id` to `eos_token_id`:128001 for open-end generation.\n",
      " 42%|██████████████████████████████████▊                                                | 21/50 [08:09<09:55, 20.52s/it]Setting `pad_token_id` to `eos_token_id`:128001 for open-end generation.\n",
      " 44%|████████████████████████████████████▌                                              | 22/50 [08:34<10:12, 21.87s/it]Setting `pad_token_id` to `eos_token_id`:128001 for open-end generation.\n",
      " 46%|██████████████████████████████████████▏                                            | 23/50 [08:59<10:16, 22.82s/it]Setting `pad_token_id` to `eos_token_id`:128001 for open-end generation.\n",
      " 48%|███████████████████████████████████████▊                                           | 24/50 [09:24<10:11, 23.51s/it]Setting `pad_token_id` to `eos_token_id`:128001 for open-end generation.\n",
      " 50%|█████████████████████████████████████████▌                                         | 25/50 [09:49<09:56, 23.86s/it]Setting `pad_token_id` to `eos_token_id`:128001 for open-end generation.\n",
      " 52%|███████████████████████████████████████████▏                                       | 26/50 [10:14<09:39, 24.16s/it]Setting `pad_token_id` to `eos_token_id`:128001 for open-end generation.\n",
      " 54%|████████████████████████████████████████████▊                                      | 27/50 [10:32<08:38, 22.54s/it]Setting `pad_token_id` to `eos_token_id`:128001 for open-end generation.\n",
      " 56%|██████████████████████████████████████████████▍                                    | 28/50 [10:55<08:16, 22.56s/it]Setting `pad_token_id` to `eos_token_id`:128001 for open-end generation.\n",
      " 58%|████████████████████████████████████████████████▏                                  | 29/50 [11:21<08:14, 23.55s/it]Setting `pad_token_id` to `eos_token_id`:128001 for open-end generation.\n",
      " 60%|█████████████████████████████████████████████████▊                                 | 30/50 [11:47<08:05, 24.29s/it]Setting `pad_token_id` to `eos_token_id`:128001 for open-end generation.\n",
      " 62%|███████████████████████████████████████████████████▍                               | 31/50 [12:06<07:10, 22.65s/it]Setting `pad_token_id` to `eos_token_id`:128001 for open-end generation.\n",
      " 64%|█████████████████████████████████████████████████████                              | 32/50 [12:21<06:08, 20.49s/it]Setting `pad_token_id` to `eos_token_id`:128001 for open-end generation.\n",
      " 66%|██████████████████████████████████████████████████████▊                            | 33/50 [12:46<06:13, 21.95s/it]Setting `pad_token_id` to `eos_token_id`:128001 for open-end generation.\n",
      " 68%|████████████████████████████████████████████████████████▍                          | 34/50 [13:12<06:08, 23.03s/it]Setting `pad_token_id` to `eos_token_id`:128001 for open-end generation.\n",
      " 70%|██████████████████████████████████████████████████████████                         | 35/50 [13:37<05:54, 23.64s/it]Setting `pad_token_id` to `eos_token_id`:128001 for open-end generation.\n",
      " 72%|███████████████████████████████████████████████████████████▊                       | 36/50 [14:02<05:34, 23.88s/it]Setting `pad_token_id` to `eos_token_id`:128001 for open-end generation.\n",
      " 74%|█████████████████████████████████████████████████████████████▍                     | 37/50 [14:26<05:13, 24.13s/it]Setting `pad_token_id` to `eos_token_id`:128001 for open-end generation.\n",
      " 76%|███████████████████████████████████████████████████████████████                    | 38/50 [14:51<04:51, 24.33s/it]Setting `pad_token_id` to `eos_token_id`:128001 for open-end generation.\n",
      " 78%|████████████████████████████████████████████████████████████████▋                  | 39/50 [15:12<04:16, 23.28s/it]Setting `pad_token_id` to `eos_token_id`:128001 for open-end generation.\n",
      " 80%|██████████████████████████████████████████████████████████████████▍                | 40/50 [15:37<03:57, 23.77s/it]Setting `pad_token_id` to `eos_token_id`:128001 for open-end generation.\n",
      " 82%|████████████████████████████████████████████████████████████████████               | 41/50 [16:02<03:37, 24.12s/it]Setting `pad_token_id` to `eos_token_id`:128001 for open-end generation.\n",
      " 84%|█████████████████████████████████████████████████████████████████████▋             | 42/50 [16:26<03:14, 24.30s/it]Setting `pad_token_id` to `eos_token_id`:128001 for open-end generation.\n",
      " 86%|███████████████████████████████████████████████████████████████████████▍           | 43/50 [16:44<02:36, 22.39s/it]Setting `pad_token_id` to `eos_token_id`:128001 for open-end generation.\n",
      " 88%|█████████████████████████████████████████████████████████████████████████          | 44/50 [17:10<02:19, 23.31s/it]Setting `pad_token_id` to `eos_token_id`:128001 for open-end generation.\n",
      " 90%|██████████████████████████████████████████████████████████████████████████▋        | 45/50 [17:32<01:54, 22.85s/it]Setting `pad_token_id` to `eos_token_id`:128001 for open-end generation.\n",
      " 92%|████████████████████████████████████████████████████████████████████████████▎      | 46/50 [17:48<01:23, 20.95s/it]Setting `pad_token_id` to `eos_token_id`:128001 for open-end generation.\n",
      " 94%|██████████████████████████████████████████████████████████████████████████████     | 47/50 [18:08<01:01, 20.52s/it]Setting `pad_token_id` to `eos_token_id`:128001 for open-end generation.\n",
      " 96%|███████████████████████████████████████████████████████████████████████████████▋   | 48/50 [18:33<00:43, 21.86s/it]Setting `pad_token_id` to `eos_token_id`:128001 for open-end generation.\n",
      " 98%|█████████████████████████████████████████████████████████████████████████████████▎ | 49/50 [18:58<00:22, 22.84s/it]Setting `pad_token_id` to `eos_token_id`:128001 for open-end generation.\n",
      "100%|███████████████████████████████████████████████████████████████████████████████████| 50/50 [19:21<00:00, 23.24s/it]\n"
     ]
    }
   ],
   "source": [
    "train_q = train_df.question.unique().tolist()\n",
    "train_q_proc = process_questions(train_q)\n",
    "\n",
    "qa_expert_train = run_batch_gen(\n",
    "    train_q,\n",
    "    train_q_proc\n",
    ")"
   ]
  },
  {
   "cell_type": "code",
   "execution_count": 9,
   "id": "df8483e7-b108-49d5-b971-1001d69825aa",
   "metadata": {},
   "outputs": [],
   "source": [
    "gc.collect()\n",
    "torch.cuda.empty_cache()"
   ]
  },
  {
   "cell_type": "code",
   "execution_count": 10,
   "id": "044fec65-5660-486a-a6dd-c5c27b639f21",
   "metadata": {},
   "outputs": [
    {
     "name": "stderr",
     "output_type": "stream",
     "text": [
      "  0%|                                                                                             | 0/6 [00:00<?, ?it/s]Setting `pad_token_id` to `eos_token_id`:128001 for open-end generation.\n",
      " 17%|██████████████▏                                                                      | 1/6 [00:22<01:54, 23.00s/it]Setting `pad_token_id` to `eos_token_id`:128001 for open-end generation.\n",
      " 33%|████████████████████████████▎                                                        | 2/6 [00:46<01:34, 23.56s/it]Setting `pad_token_id` to `eos_token_id`:128001 for open-end generation.\n",
      " 50%|██████████████████████████████████████████▌                                          | 3/6 [01:12<01:13, 24.36s/it]Setting `pad_token_id` to `eos_token_id`:128001 for open-end generation.\n",
      " 67%|████████████████████████████████████████████████████████▋                            | 4/6 [01:37<00:49, 24.64s/it]Setting `pad_token_id` to `eos_token_id`:128001 for open-end generation.\n",
      " 83%|██████████████████████████████████████████████████████████████████████▊              | 5/6 [01:58<00:23, 23.54s/it]Setting `pad_token_id` to `eos_token_id`:128001 for open-end generation.\n",
      "100%|█████████████████████████████████████████████████████████████████████████████████████| 6/6 [02:20<00:00, 23.39s/it]\n"
     ]
    }
   ],
   "source": [
    "dev_q = dev_df.question.unique().tolist()\n",
    "qa_expert_dev = run_batch_gen(\n",
    "    dev_q,\n",
    "    process_questions(dev_q)\n",
    ")"
   ]
  },
  {
   "cell_type": "code",
   "execution_count": 11,
   "id": "27784fba-ece1-480f-9dbe-25e9b25156a9",
   "metadata": {},
   "outputs": [
    {
     "name": "stdout",
     "output_type": "stream",
     "text": [
      "Whom did Billy Jean King beat in the 1973 Battle of The Sexes Tennis Match?\n",
      "\"Bobby Riggs.\" King beat Riggs in an exhibition match of men's tennis on September 20, 1973 at the Houston Astrodome in Houston, Texas. The outcome was largely symbolic, with King showing that men's tennis was not exclusively a male domain. The match became a media sensation and elevated King's profile in women's tennis, a sport that still faced widespread public derision of its perceived lesser level of play than its male counterpart. King's success in the match also spurred major social conversations about gender equality and paved the way for greater female involvement in sporting events.\n"
     ]
    }
   ],
   "source": [
    "print(list(qa_expert_train.keys())[2])\n",
    "print(list(qa_expert_train.values())[2])"
   ]
  },
  {
   "cell_type": "code",
   "execution_count": 12,
   "id": "4607876a-11e6-4fa0-8570-3d2e493c7ce6",
   "metadata": {},
   "outputs": [
    {
     "data": {
      "text/plain": [
       "'Who won two Pulitzer Prizes for fiction and was born in Reading, PA?'"
      ]
     },
     "execution_count": 12,
     "metadata": {},
     "output_type": "execute_result"
    }
   ],
   "source": [
    "list(qa_expert_dev.keys())[4]"
   ]
  },
  {
   "cell_type": "code",
   "execution_count": 13,
   "id": "8fdced66-20a7-4926-a3fb-facff79fdb98",
   "metadata": {},
   "outputs": [],
   "source": [
    "dev_df['expert1'] = dev_df.question.map(qa_expert_dev)\n",
    "train_df['expert1'] = train_df.question.map(qa_expert_train)"
   ]
  },
  {
   "cell_type": "code",
   "execution_count": 15,
   "id": "a8a6b9b9-4b09-468e-870d-a02caa5682ab",
   "metadata": {},
   "outputs": [],
   "source": [
    "dev_df.to_csv('./data/dev.csv', index=False)\n",
    "train_df.to_csv('./data/train.csv', index=False)"
   ]
  },
  {
   "cell_type": "code",
   "execution_count": null,
   "id": "21ec5fa6-5aee-4fc7-a905-1f2cc30804d0",
   "metadata": {},
   "outputs": [],
   "source": []
  },
  {
   "cell_type": "markdown",
   "id": "3dd12420-61a7-43b4-9620-2b837066c2ae",
   "metadata": {},
   "source": [
    "## Explain relatness"
   ]
  },
  {
   "cell_type": "code",
   "execution_count": 18,
   "id": "f4c0586b-b27d-4adc-a886-99f1839f1bfa",
   "metadata": {},
   "outputs": [],
   "source": [
    "expert_instruction_2 = \"Exlain very briefly every option. No more than 10 words for each option. Write how it related to question and why it can be true. For question Q there are list of options. It contains answer [entity] and graph, shows how it related to question entity. Questions are challenging, if you do it correct you will have 10$\""
   ]
  },
  {
   "cell_type": "code",
   "execution_count": 20,
   "id": "e7b4a44b-bbfa-4d03-80c7-f3877cebce2f",
   "metadata": {},
   "outputs": [
    {
     "name": "stderr",
     "output_type": "stream",
     "text": [
      "/tmp/ipykernel_124743/70406673.py:19: DeprecationWarning: DataFrameGroupBy.apply operated on the grouping columns. This behavior is deprecated, and in a future version of pandas the grouping columns will be excluded from the operation. Either pass `include_groups=False` to exclude the groupings or explicitly select the grouping columns after groupby to silence this warning.\n",
      "  train_df_lin = train_df.groupby('question').apply(list_answers).reset_index()\n",
      "/tmp/ipykernel_124743/70406673.py:20: DeprecationWarning: DataFrameGroupBy.apply operated on the grouping columns. This behavior is deprecated, and in a future version of pandas the grouping columns will be excluded from the operation. Either pass `include_groups=False` to exclude the groupings or explicitly select the grouping columns after groupby to silence this warning.\n",
      "  dev_df_lin = dev_df.groupby('question').apply(list_answers).reset_index()\n"
     ]
    }
   ],
   "source": [
    "def list_answers(df):\n",
    "    answers_entities = df['answerEntity'].tolist()\n",
    "    graphs_lin = df['linearized_graph'].tolist()\n",
    "    question = df['question'].tolist()[0]\n",
    "    \n",
    "    res = f\"\"\"\n",
    "Q: {question}\n",
    "Options:\n",
    "\"\"\"\n",
    "    \n",
    "    for i, (a, g) in enumerate(zip(answers_entities, graphs_lin)):\n",
    "        res += f\"\"\"{i+1}. [{a}]. Graph: {g} \\n\"\"\"\n",
    "\n",
    "    return pd.DataFrame({\n",
    "        'possible_answers': [res],\n",
    "        'true_answer': [df['groundTruthAnswerEntity'].tolist()[0]]\n",
    "    })\n",
    "\n",
    "train_df_lin = train_df.groupby('question').apply(list_answers).reset_index()\n",
    "dev_df_lin = dev_df.groupby('question').apply(list_answers).reset_index()"
   ]
  },
  {
   "cell_type": "code",
   "execution_count": 21,
   "id": "11bc53c7-f763-4fed-8ea5-8e13b31c99af",
   "metadata": {},
   "outputs": [],
   "source": [
    "def process_questions_list(questions):\n",
    "    return [\n",
    "        alpaca_prompt.format(expert_instruction_2, q, \"\")\n",
    "        for q in questions\n",
    "    ]"
   ]
  },
  {
   "cell_type": "code",
   "execution_count": 22,
   "id": "03ef6966-a4b1-4a65-bd90-4ca87de86b8e",
   "metadata": {},
   "outputs": [
    {
     "name": "stderr",
     "output_type": "stream",
     "text": [
      "  0%|                                                                                             | 0/1 [00:00<?, ?it/s]Setting `pad_token_id` to `eos_token_id`:128001 for open-end generation.\n",
      "100%|█████████████████████████████████████████████████████████████████████████████████████| 1/1 [00:18<00:00, 18.51s/it]\n"
     ]
    }
   ],
   "source": [
    "qa_expert_train_2 = run_batch_gen(\n",
    "    train_df_lin.question.tolist()[:2],\n",
    "    process_questions_list(train_df_lin.possible_answers.tolist())[:2],\n",
    "    BS = 8\n",
    ")"
   ]
  },
  {
   "cell_type": "code",
   "execution_count": 24,
   "id": "94a5f59c-7873-4ffb-b1a5-75dc8e14e9a5",
   "metadata": {},
   "outputs": [
    {
     "name": "stdout",
     "output_type": "stream",
     "text": [
      "Q: Are the Green Bay Packers or Dallas Cowboys older?\n",
      "Options:\n",
      "1. (Answer [history of the Los Angeles Rams], Graph:  United States, country, United States Dallas Cowboys, country, United States Green Bay Packers, country, United States, history of the Los Angeles Rams. The Los Angeles Rams were founded in 1936, and the first game they played was on September 7, 1936. The Dallas Cowboys were founded in 1960, and the first game they played was on September 27, 1960. The Green Bay Packers were founded in 1919, and the first game they played was on September 27, 1928. This answer can be true because the Rams were founded first and played in the first game. However, the dates of foundations and first games are from the official NFL history website.)\n",
      "2. (Answer [history of the Green Bay Packers], Graph:  United States, country, United States Dallas Cowboys, country, United States Green Bay Packers, country, United States Green Bay Packers, history of topic, The history of the Green Bay Packers is one of the oldest in the National Football League. The team has been around since 1919, making it one of the most venerable franchises\n"
     ]
    }
   ],
   "source": [
    "print(list(qa_expert_train_2.values())[1])"
   ]
  },
  {
   "cell_type": "code",
   "execution_count": null,
   "id": "3603c13c-7dad-43e7-904f-e4c759b67e25",
   "metadata": {},
   "outputs": [],
   "source": []
  },
  {
   "cell_type": "markdown",
   "id": "923f7aeb-d1a7-4c19-acab-33e3b4293eb7",
   "metadata": {},
   "source": [
    "## Train"
   ]
  },
  {
   "cell_type": "code",
   "execution_count": null,
   "id": "ee0cd887-4475-4582-a47f-22d836d998a5",
   "metadata": {},
   "outputs": [],
   "source": []
  },
  {
   "cell_type": "code",
   "execution_count": 4,
   "id": "f4b6e239-4a11-444c-8bf6-7c50bd24272c",
   "metadata": {},
   "outputs": [
    {
     "name": "stderr",
     "output_type": "stream",
     "text": [
      "/tmp/ipykernel_138818/3524352692.py:21: DeprecationWarning: DataFrameGroupBy.apply operated on the grouping columns. This behavior is deprecated, and in a future version of pandas the grouping columns will be excluded from the operation. Either pass `include_groups=False` to exclude the groupings or explicitly select the grouping columns after groupby to silence this warning.\n",
      "  train_df_lin = train_df.groupby('question').apply(list_answers_expert).reset_index()\n",
      "/tmp/ipykernel_138818/3524352692.py:22: DeprecationWarning: DataFrameGroupBy.apply operated on the grouping columns. This behavior is deprecated, and in a future version of pandas the grouping columns will be excluded from the operation. Either pass `include_groups=False` to exclude the groupings or explicitly select the grouping columns after groupby to silence this warning.\n",
      "  dev_df_lin = dev_df.groupby('question').apply(list_answers_expert).reset_index()\n"
     ]
    }
   ],
   "source": [
    "def list_answers_expert(df):\n",
    "    answers_entities = df['answerEntity'].tolist()\n",
    "    graphs_lin = df['linearized_graph'].tolist()\n",
    "    question = df['question'].tolist()[0]\n",
    "    expert = df['expert1'].tolist()[0]\n",
    "    \n",
    "    res = f\"\"\"\n",
    "Q: {question}\n",
    "Expert explanation: {expert}\n",
    "Options:\n",
    "\"\"\"\n",
    "    \n",
    "    for i, (a, g) in enumerate(zip(answers_entities, graphs_lin)):\n",
    "        res += f\"\"\"{i+1}. [{a}]. Graph: {g} \\n\"\"\"\n",
    "\n",
    "    return pd.DataFrame({\n",
    "        'possible_answers': [res],\n",
    "        'true_answer': [df['groundTruthAnswerEntity'].tolist()[0]]\n",
    "    })\n",
    "\n",
    "train_df_lin = train_df.groupby('question').apply(list_answers_expert).reset_index()\n",
    "dev_df_lin = dev_df.groupby('question').apply(list_answers_expert).reset_index()"
   ]
  },
  {
   "cell_type": "code",
   "execution_count": 5,
   "id": "78dadc3f-afd3-40b2-b701-71d49b9fbaba",
   "metadata": {},
   "outputs": [],
   "source": [
    "train_ds = _Dataset.from_pandas(train_df_lin)\n",
    "dev_ds = _Dataset.from_pandas(dev_df_lin)"
   ]
  },
  {
   "cell_type": "code",
   "execution_count": 6,
   "id": "518a6698-48ea-435c-b4fb-868be5c6f0fb",
   "metadata": {},
   "outputs": [
    {
     "name": "stderr",
     "output_type": "stream",
     "text": [
      "Map: 100%|████████████████████████████████████████████████████████████████| 3181/3181 [00:00<00:00, 15770.02 examples/s]\n"
     ]
    }
   ],
   "source": [
    "alpaca_prompt = \"\"\"Below is an instruction that describes a task, paired with an input that provides further context. Write a response that appropriately completes the request.\n",
    "### Instruction:\n",
    "{}\n",
    "\n",
    "### Input:\n",
    "{}\n",
    "\n",
    "### Response:\n",
    "{}\"\"\"\n",
    "\n",
    "instruction = \"\"\"Given a question and the associated retrieved knowledge graph triplets contains entity, relation, and entity. There is also information from expert, which might help. Possible answer entity highlighted like [entity] \n",
    "You are asked to answer the question with these triplets and your knowledge.\n",
    "\"\"\"\n",
    "\n",
    "EOS_TOKEN = tokenizer.eos_token # Must add EOS_TOKEN\n",
    "def formatting_prompts_func(examples):\n",
    "    #print(examples)\n",
    "    \n",
    "    input       = examples[\"possible_answers\"]\n",
    "    output      = '{'+examples[\"true_answer\"]+'}'\n",
    "    texts = []\n",
    "    text = alpaca_prompt.format(instruction, input, output) + EOS_TOKEN\n",
    "    return { \"text\" : text, }\n",
    "\n",
    "dataset_train = train_ds.map(formatting_prompts_func, batched = False,)"
   ]
  },
  {
   "cell_type": "code",
   "execution_count": 7,
   "id": "1f0add86-05a9-4d54-8c6f-0e0f32b11ae9",
   "metadata": {},
   "outputs": [
    {
     "name": "stderr",
     "output_type": "stream",
     "text": [
      "Using the `WANDB_DISABLED` environment variable is deprecated and will be removed in v5. Use the --report_to flag to control the integrations used for logging result (for instance --report_to none).\n",
      "Map (num_proc=2): 100%|████████████████████████████████████████████████████| 3181/3181 [00:03<00:00, 1036.66 examples/s]\n",
      "max_steps is given, it will override any value given in num_train_epochs\n"
     ]
    }
   ],
   "source": [
    "os.environ['WANDB_DISABLED'] = 'true'\n",
    "from trl import SFTTrainer\n",
    "from transformers import TrainingArguments\n",
    "\n",
    "trainer = SFTTrainer(\n",
    "    model = model,\n",
    "    tokenizer = tokenizer,\n",
    "    train_dataset = dataset_train,\n",
    "    dataset_text_field = \"text\",\n",
    "    max_seq_length = max_seq_length,\n",
    "    dataset_num_proc = 2,\n",
    "    packing = False, # Can make training 5x faster for short sequences.\n",
    "    args = TrainingArguments(\n",
    "        per_device_train_batch_size = 2,\n",
    "        gradient_accumulation_steps = 4,\n",
    "        warmup_steps = 5,\n",
    "        max_steps = 60,\n",
    "        learning_rate = 1e-3,\n",
    "        fp16 = not torch.cuda.is_bf16_supported(),\n",
    "        bf16 = torch.cuda.is_bf16_supported(),\n",
    "        logging_steps = 1,\n",
    "        optim = \"adamw_8bit\",\n",
    "        weight_decay = 0.01,\n",
    "        lr_scheduler_type = \"linear\",\n",
    "        seed = 3407,\n",
    "        output_dir = \"outputs\",\n",
    "    ),\n",
    ")"
   ]
  },
  {
   "cell_type": "code",
   "execution_count": 8,
   "id": "190242b9-603d-4a69-bc6a-20e06693de29",
   "metadata": {
    "collapsed": true,
    "jupyter": {
     "outputs_hidden": true
    }
   },
   "outputs": [
    {
     "name": "stderr",
     "output_type": "stream",
     "text": [
      "==((====))==  Unsloth - 2x faster free finetuning | Num GPUs = 1\n",
      "   \\\\   /|    Num examples = 3,181 | Num Epochs = 1\n",
      "O^O/ \\_/ \\    Batch size per device = 2 | Gradient Accumulation steps = 4\n",
      "\\        /    Total batch size = 8 | Total steps = 60\n",
      " \"-____-\"     Number of trainable parameters = 41,943,040\n"
     ]
    },
    {
     "data": {
      "text/html": [
       "\n",
       "    <div>\n",
       "      \n",
       "      <progress value='60' max='60' style='width:300px; height:20px; vertical-align: middle;'></progress>\n",
       "      [60/60 05:04, Epoch 0/1]\n",
       "    </div>\n",
       "    <table border=\"1\" class=\"dataframe\">\n",
       "  <thead>\n",
       " <tr style=\"text-align: left;\">\n",
       "      <th>Step</th>\n",
       "      <th>Training Loss</th>\n",
       "    </tr>\n",
       "  </thead>\n",
       "  <tbody>\n",
       "    <tr>\n",
       "      <td>1</td>\n",
       "      <td>1.058700</td>\n",
       "    </tr>\n",
       "    <tr>\n",
       "      <td>2</td>\n",
       "      <td>1.087800</td>\n",
       "    </tr>\n",
       "    <tr>\n",
       "      <td>3</td>\n",
       "      <td>0.888800</td>\n",
       "    </tr>\n",
       "    <tr>\n",
       "      <td>4</td>\n",
       "      <td>0.769000</td>\n",
       "    </tr>\n",
       "    <tr>\n",
       "      <td>5</td>\n",
       "      <td>0.631700</td>\n",
       "    </tr>\n",
       "    <tr>\n",
       "      <td>6</td>\n",
       "      <td>0.536000</td>\n",
       "    </tr>\n",
       "    <tr>\n",
       "      <td>7</td>\n",
       "      <td>0.482600</td>\n",
       "    </tr>\n",
       "    <tr>\n",
       "      <td>8</td>\n",
       "      <td>0.350900</td>\n",
       "    </tr>\n",
       "    <tr>\n",
       "      <td>9</td>\n",
       "      <td>0.395500</td>\n",
       "    </tr>\n",
       "    <tr>\n",
       "      <td>10</td>\n",
       "      <td>0.404500</td>\n",
       "    </tr>\n",
       "    <tr>\n",
       "      <td>11</td>\n",
       "      <td>0.427300</td>\n",
       "    </tr>\n",
       "    <tr>\n",
       "      <td>12</td>\n",
       "      <td>0.380400</td>\n",
       "    </tr>\n",
       "    <tr>\n",
       "      <td>13</td>\n",
       "      <td>0.497200</td>\n",
       "    </tr>\n",
       "    <tr>\n",
       "      <td>14</td>\n",
       "      <td>0.365900</td>\n",
       "    </tr>\n",
       "    <tr>\n",
       "      <td>15</td>\n",
       "      <td>0.379400</td>\n",
       "    </tr>\n",
       "    <tr>\n",
       "      <td>16</td>\n",
       "      <td>0.396800</td>\n",
       "    </tr>\n",
       "    <tr>\n",
       "      <td>17</td>\n",
       "      <td>0.472200</td>\n",
       "    </tr>\n",
       "    <tr>\n",
       "      <td>18</td>\n",
       "      <td>0.493200</td>\n",
       "    </tr>\n",
       "    <tr>\n",
       "      <td>19</td>\n",
       "      <td>0.372600</td>\n",
       "    </tr>\n",
       "    <tr>\n",
       "      <td>20</td>\n",
       "      <td>0.315600</td>\n",
       "    </tr>\n",
       "    <tr>\n",
       "      <td>21</td>\n",
       "      <td>0.352900</td>\n",
       "    </tr>\n",
       "    <tr>\n",
       "      <td>22</td>\n",
       "      <td>0.318900</td>\n",
       "    </tr>\n",
       "    <tr>\n",
       "      <td>23</td>\n",
       "      <td>0.369600</td>\n",
       "    </tr>\n",
       "    <tr>\n",
       "      <td>24</td>\n",
       "      <td>0.319000</td>\n",
       "    </tr>\n",
       "    <tr>\n",
       "      <td>25</td>\n",
       "      <td>0.409200</td>\n",
       "    </tr>\n",
       "    <tr>\n",
       "      <td>26</td>\n",
       "      <td>0.362600</td>\n",
       "    </tr>\n",
       "    <tr>\n",
       "      <td>27</td>\n",
       "      <td>0.345600</td>\n",
       "    </tr>\n",
       "    <tr>\n",
       "      <td>28</td>\n",
       "      <td>0.365300</td>\n",
       "    </tr>\n",
       "    <tr>\n",
       "      <td>29</td>\n",
       "      <td>0.366700</td>\n",
       "    </tr>\n",
       "    <tr>\n",
       "      <td>30</td>\n",
       "      <td>0.392000</td>\n",
       "    </tr>\n",
       "    <tr>\n",
       "      <td>31</td>\n",
       "      <td>0.429900</td>\n",
       "    </tr>\n",
       "    <tr>\n",
       "      <td>32</td>\n",
       "      <td>0.324400</td>\n",
       "    </tr>\n",
       "    <tr>\n",
       "      <td>33</td>\n",
       "      <td>0.386900</td>\n",
       "    </tr>\n",
       "    <tr>\n",
       "      <td>34</td>\n",
       "      <td>0.406000</td>\n",
       "    </tr>\n",
       "    <tr>\n",
       "      <td>35</td>\n",
       "      <td>0.353800</td>\n",
       "    </tr>\n",
       "    <tr>\n",
       "      <td>36</td>\n",
       "      <td>0.356600</td>\n",
       "    </tr>\n",
       "    <tr>\n",
       "      <td>37</td>\n",
       "      <td>0.402500</td>\n",
       "    </tr>\n",
       "    <tr>\n",
       "      <td>38</td>\n",
       "      <td>0.388900</td>\n",
       "    </tr>\n",
       "    <tr>\n",
       "      <td>39</td>\n",
       "      <td>0.300600</td>\n",
       "    </tr>\n",
       "    <tr>\n",
       "      <td>40</td>\n",
       "      <td>0.363300</td>\n",
       "    </tr>\n",
       "    <tr>\n",
       "      <td>41</td>\n",
       "      <td>0.350500</td>\n",
       "    </tr>\n",
       "    <tr>\n",
       "      <td>42</td>\n",
       "      <td>0.342600</td>\n",
       "    </tr>\n",
       "    <tr>\n",
       "      <td>43</td>\n",
       "      <td>0.300400</td>\n",
       "    </tr>\n",
       "    <tr>\n",
       "      <td>44</td>\n",
       "      <td>0.389600</td>\n",
       "    </tr>\n",
       "    <tr>\n",
       "      <td>45</td>\n",
       "      <td>0.317100</td>\n",
       "    </tr>\n",
       "    <tr>\n",
       "      <td>46</td>\n",
       "      <td>0.390300</td>\n",
       "    </tr>\n",
       "    <tr>\n",
       "      <td>47</td>\n",
       "      <td>0.431800</td>\n",
       "    </tr>\n",
       "    <tr>\n",
       "      <td>48</td>\n",
       "      <td>0.274500</td>\n",
       "    </tr>\n",
       "    <tr>\n",
       "      <td>49</td>\n",
       "      <td>0.351600</td>\n",
       "    </tr>\n",
       "    <tr>\n",
       "      <td>50</td>\n",
       "      <td>0.281300</td>\n",
       "    </tr>\n",
       "    <tr>\n",
       "      <td>51</td>\n",
       "      <td>0.347800</td>\n",
       "    </tr>\n",
       "    <tr>\n",
       "      <td>52</td>\n",
       "      <td>0.417500</td>\n",
       "    </tr>\n",
       "    <tr>\n",
       "      <td>53</td>\n",
       "      <td>0.277500</td>\n",
       "    </tr>\n",
       "    <tr>\n",
       "      <td>54</td>\n",
       "      <td>0.316500</td>\n",
       "    </tr>\n",
       "    <tr>\n",
       "      <td>55</td>\n",
       "      <td>0.343100</td>\n",
       "    </tr>\n",
       "    <tr>\n",
       "      <td>56</td>\n",
       "      <td>0.362300</td>\n",
       "    </tr>\n",
       "    <tr>\n",
       "      <td>57</td>\n",
       "      <td>0.468200</td>\n",
       "    </tr>\n",
       "    <tr>\n",
       "      <td>58</td>\n",
       "      <td>0.288500</td>\n",
       "    </tr>\n",
       "    <tr>\n",
       "      <td>59</td>\n",
       "      <td>0.295300</td>\n",
       "    </tr>\n",
       "    <tr>\n",
       "      <td>60</td>\n",
       "      <td>0.366100</td>\n",
       "    </tr>\n",
       "  </tbody>\n",
       "</table><p>"
      ],
      "text/plain": [
       "<IPython.core.display.HTML object>"
      ]
     },
     "metadata": {},
     "output_type": "display_data"
    }
   ],
   "source": [
    "trainer_stats = trainer.train()"
   ]
  },
  {
   "cell_type": "code",
   "execution_count": 14,
   "id": "0038d021-5f10-419b-a16a-cd3d26aba014",
   "metadata": {},
   "outputs": [],
   "source": [
    "gc.collect()\n",
    "torch.cuda.empty_cache()"
   ]
  },
  {
   "cell_type": "code",
   "execution_count": 15,
   "id": "b778eb38-90d9-444d-a946-72b6b239870d",
   "metadata": {},
   "outputs": [
    {
     "name": "stderr",
     "output_type": "stream",
     "text": [
      "  0%|                                                                                           | 0/354 [00:00<?, ?it/s]Setting `pad_token_id` to `eos_token_id`:128001 for open-end generation.\n",
      "  0%|▏                                                                                  | 1/354 [00:01<10:17,  1.75s/it]Setting `pad_token_id` to `eos_token_id`:128001 for open-end generation.\n",
      "  1%|▍                                                                                  | 2/354 [00:03<09:51,  1.68s/it]Setting `pad_token_id` to `eos_token_id`:128001 for open-end generation.\n",
      "  1%|▋                                                                                  | 3/354 [00:13<31:23,  5.37s/it]Setting `pad_token_id` to `eos_token_id`:128001 for open-end generation.\n",
      "  1%|▉                                                                                  | 4/354 [00:14<21:55,  3.76s/it]Setting `pad_token_id` to `eos_token_id`:128001 for open-end generation.\n",
      "  1%|█▏                                                                                 | 5/354 [00:15<17:06,  2.94s/it]Setting `pad_token_id` to `eos_token_id`:128001 for open-end generation.\n",
      "  2%|█▍                                                                                 | 6/354 [00:21<21:43,  3.75s/it]Setting `pad_token_id` to `eos_token_id`:128001 for open-end generation.\n",
      "  2%|█▋                                                                                 | 7/354 [00:22<16:39,  2.88s/it]Setting `pad_token_id` to `eos_token_id`:128001 for open-end generation.\n",
      "  2%|█▉                                                                                 | 8/354 [00:29<24:27,  4.24s/it]Setting `pad_token_id` to `eos_token_id`:128001 for open-end generation.\n",
      "  3%|██                                                                                 | 9/354 [00:30<18:25,  3.20s/it]Setting `pad_token_id` to `eos_token_id`:128001 for open-end generation.\n",
      "  3%|██▎                                                                               | 10/354 [00:31<14:17,  2.49s/it]Setting `pad_token_id` to `eos_token_id`:128001 for open-end generation.\n",
      "  3%|██▌                                                                               | 11/354 [00:32<11:30,  2.01s/it]Setting `pad_token_id` to `eos_token_id`:128001 for open-end generation.\n",
      "  3%|██▊                                                                               | 12/354 [00:33<09:25,  1.65s/it]Setting `pad_token_id` to `eos_token_id`:128001 for open-end generation.\n",
      "  4%|███                                                                               | 13/354 [00:33<07:45,  1.37s/it]Setting `pad_token_id` to `eos_token_id`:128001 for open-end generation.\n",
      "  4%|███▏                                                                              | 14/354 [00:41<19:19,  3.41s/it]Setting `pad_token_id` to `eos_token_id`:128001 for open-end generation.\n",
      "  4%|███▍                                                                              | 15/354 [00:43<16:03,  2.84s/it]Setting `pad_token_id` to `eos_token_id`:128001 for open-end generation.\n",
      "  5%|███▋                                                                              | 16/354 [00:44<12:43,  2.26s/it]Setting `pad_token_id` to `eos_token_id`:128001 for open-end generation.\n",
      "  5%|███▉                                                                              | 17/354 [00:58<33:28,  5.96s/it]Setting `pad_token_id` to `eos_token_id`:128001 for open-end generation.\n",
      "  5%|████▏                                                                             | 18/354 [00:59<24:57,  4.46s/it]Setting `pad_token_id` to `eos_token_id`:128001 for open-end generation.\n",
      "  5%|████▍                                                                             | 19/354 [01:00<18:49,  3.37s/it]Setting `pad_token_id` to `eos_token_id`:128001 for open-end generation.\n",
      "  6%|████▋                                                                             | 20/354 [01:11<31:04,  5.58s/it]Setting `pad_token_id` to `eos_token_id`:128001 for open-end generation.\n",
      "  6%|████▊                                                                             | 21/354 [01:21<38:53,  7.01s/it]Setting `pad_token_id` to `eos_token_id`:128001 for open-end generation.\n",
      "  6%|█████                                                                             | 22/354 [01:37<52:34,  9.50s/it]Setting `pad_token_id` to `eos_token_id`:128001 for open-end generation.\n",
      "  6%|█████▎                                                                            | 23/354 [01:39<41:28,  7.52s/it]Setting `pad_token_id` to `eos_token_id`:128001 for open-end generation.\n",
      "  7%|█████▌                                                                            | 24/354 [01:50<46:39,  8.48s/it]Setting `pad_token_id` to `eos_token_id`:128001 for open-end generation.\n",
      "  7%|█████▊                                                                            | 25/354 [02:02<51:43,  9.43s/it]Setting `pad_token_id` to `eos_token_id`:128001 for open-end generation.\n",
      "  7%|██████                                                                            | 26/354 [02:11<51:52,  9.49s/it]Setting `pad_token_id` to `eos_token_id`:128001 for open-end generation.\n",
      "  8%|██████▎                                                                           | 27/354 [02:22<53:50,  9.88s/it]Setting `pad_token_id` to `eos_token_id`:128001 for open-end generation.\n",
      "  8%|██████▍                                                                           | 28/354 [02:33<55:00, 10.12s/it]Setting `pad_token_id` to `eos_token_id`:128001 for open-end generation.\n",
      "  8%|██████▋                                                                           | 29/354 [02:45<57:09, 10.55s/it]Setting `pad_token_id` to `eos_token_id`:128001 for open-end generation.\n",
      "  8%|██████▊                                                                         | 30/354 [02:58<1:02:26, 11.56s/it]Setting `pad_token_id` to `eos_token_id`:128001 for open-end generation.\n",
      "  9%|███████▏                                                                          | 31/354 [03:07<57:45, 10.73s/it]Setting `pad_token_id` to `eos_token_id`:128001 for open-end generation.\n",
      "  9%|███████▏                                                                        | 32/354 [03:22<1:03:55, 11.91s/it]Setting `pad_token_id` to `eos_token_id`:128001 for open-end generation.\n",
      "  9%|███████▋                                                                          | 33/354 [03:23<46:20,  8.66s/it]Setting `pad_token_id` to `eos_token_id`:128001 for open-end generation.\n",
      " 10%|███████▉                                                                          | 34/354 [03:34<49:29,  9.28s/it]Setting `pad_token_id` to `eos_token_id`:128001 for open-end generation.\n",
      " 10%|████████                                                                          | 35/354 [03:45<52:55,  9.95s/it]Setting `pad_token_id` to `eos_token_id`:128001 for open-end generation.\n",
      " 10%|████████▎                                                                         | 36/354 [03:53<49:49,  9.40s/it]Setting `pad_token_id` to `eos_token_id`:128001 for open-end generation.\n",
      " 10%|████████▌                                                                         | 37/354 [04:08<58:10, 11.01s/it]Setting `pad_token_id` to `eos_token_id`:128001 for open-end generation.\n",
      " 11%|████████▊                                                                         | 38/354 [04:19<57:34, 10.93s/it]Setting `pad_token_id` to `eos_token_id`:128001 for open-end generation.\n",
      " 11%|█████████                                                                         | 39/354 [04:30<58:18, 11.11s/it]Setting `pad_token_id` to `eos_token_id`:128001 for open-end generation.\n",
      " 11%|█████████                                                                       | 40/354 [04:43<1:00:16, 11.52s/it]Setting `pad_token_id` to `eos_token_id`:128001 for open-end generation.\n",
      " 12%|█████████▎                                                                      | 41/354 [04:54<1:00:07, 11.52s/it]Setting `pad_token_id` to `eos_token_id`:128001 for open-end generation.\n",
      " 12%|█████████▍                                                                      | 42/354 [05:09<1:05:15, 12.55s/it]Setting `pad_token_id` to `eos_token_id`:128001 for open-end generation.\n",
      " 12%|█████████▉                                                                        | 43/354 [05:18<59:38, 11.51s/it]Setting `pad_token_id` to `eos_token_id`:128001 for open-end generation.\n",
      " 12%|█████████▉                                                                      | 44/354 [05:33<1:04:28, 12.48s/it]Setting `pad_token_id` to `eos_token_id`:128001 for open-end generation.\n",
      " 13%|██████████▍                                                                       | 45/354 [05:34<46:56,  9.11s/it]Setting `pad_token_id` to `eos_token_id`:128001 for open-end generation.\n",
      " 13%|██████████▋                                                                       | 46/354 [05:45<49:17,  9.60s/it]Setting `pad_token_id` to `eos_token_id`:128001 for open-end generation.\n",
      " 13%|██████████▉                                                                       | 47/354 [05:59<55:49, 10.91s/it]Setting `pad_token_id` to `eos_token_id`:128001 for open-end generation.\n",
      " 14%|██████████▊                                                                     | 48/354 [06:14<1:01:55, 12.14s/it]Setting `pad_token_id` to `eos_token_id`:128001 for open-end generation.\n",
      " 14%|███████████                                                                     | 49/354 [06:28<1:04:12, 12.63s/it]Setting `pad_token_id` to `eos_token_id`:128001 for open-end generation.\n",
      " 14%|███████████▎                                                                    | 50/354 [06:39<1:01:03, 12.05s/it]Setting `pad_token_id` to `eos_token_id`:128001 for open-end generation.\n",
      " 14%|███████████▌                                                                    | 51/354 [06:50<1:00:08, 11.91s/it]Setting `pad_token_id` to `eos_token_id`:128001 for open-end generation.\n",
      " 15%|████████████                                                                      | 52/354 [07:01<58:12, 11.57s/it]Setting `pad_token_id` to `eos_token_id`:128001 for open-end generation.\n",
      " 15%|████████████▎                                                                     | 53/354 [07:12<57:58, 11.56s/it]Setting `pad_token_id` to `eos_token_id`:128001 for open-end generation.\n",
      " 15%|████████████▌                                                                     | 54/354 [07:23<56:33, 11.31s/it]Setting `pad_token_id` to `eos_token_id`:128001 for open-end generation.\n",
      " 16%|████████████▋                                                                     | 55/354 [07:25<41:24,  8.31s/it]Setting `pad_token_id` to `eos_token_id`:128001 for open-end generation.\n",
      " 16%|████████████▉                                                                     | 56/354 [07:26<31:22,  6.32s/it]Setting `pad_token_id` to `eos_token_id`:128001 for open-end generation.\n",
      " 16%|█████████████▏                                                                    | 57/354 [07:35<34:24,  6.95s/it]Setting `pad_token_id` to `eos_token_id`:128001 for open-end generation.\n",
      " 16%|█████████████▍                                                                    | 58/354 [07:46<40:47,  8.27s/it]Setting `pad_token_id` to `eos_token_id`:128001 for open-end generation.\n",
      " 17%|█████████████▋                                                                    | 59/354 [08:05<55:56, 11.38s/it]Setting `pad_token_id` to `eos_token_id`:128001 for open-end generation.\n",
      " 17%|█████████████▉                                                                    | 60/354 [08:15<53:51, 10.99s/it]Setting `pad_token_id` to `eos_token_id`:128001 for open-end generation.\n",
      " 17%|█████████████▊                                                                  | 61/354 [08:30<1:00:09, 12.32s/it]Setting `pad_token_id` to `eos_token_id`:128001 for open-end generation.\n",
      " 18%|██████████████▎                                                                   | 62/354 [08:39<54:50, 11.27s/it]Setting `pad_token_id` to `eos_token_id`:128001 for open-end generation.\n",
      " 18%|██████████████▌                                                                   | 63/354 [08:51<55:13, 11.39s/it]Setting `pad_token_id` to `eos_token_id`:128001 for open-end generation.\n",
      " 18%|██████████████▊                                                                   | 64/354 [09:00<51:51, 10.73s/it]Setting `pad_token_id` to `eos_token_id`:128001 for open-end generation.\n",
      " 18%|███████████████                                                                   | 65/354 [09:10<51:30, 10.69s/it]Setting `pad_token_id` to `eos_token_id`:128001 for open-end generation.\n",
      " 19%|███████████████▎                                                                  | 66/354 [09:24<55:42, 11.61s/it]Setting `pad_token_id` to `eos_token_id`:128001 for open-end generation.\n",
      " 19%|███████████████▌                                                                  | 67/354 [09:33<52:06, 10.89s/it]Setting `pad_token_id` to `eos_token_id`:128001 for open-end generation.\n",
      " 19%|███████████████▊                                                                  | 68/354 [09:44<51:41, 10.85s/it]Setting `pad_token_id` to `eos_token_id`:128001 for open-end generation.\n",
      " 19%|███████████████▉                                                                  | 69/354 [09:45<37:35,  7.91s/it]Setting `pad_token_id` to `eos_token_id`:128001 for open-end generation.\n",
      " 20%|████████████████▏                                                                 | 70/354 [09:55<40:13,  8.50s/it]Setting `pad_token_id` to `eos_token_id`:128001 for open-end generation.\n",
      " 20%|████████████████▍                                                                 | 71/354 [10:17<59:07, 12.54s/it]Setting `pad_token_id` to `eos_token_id`:128001 for open-end generation.\n",
      " 20%|████████████████▋                                                                 | 72/354 [10:18<42:53,  9.13s/it]Setting `pad_token_id` to `eos_token_id`:128001 for open-end generation.\n",
      " 21%|████████████████▉                                                                 | 73/354 [10:28<43:59,  9.39s/it]Setting `pad_token_id` to `eos_token_id`:128001 for open-end generation.\n",
      " 21%|█████████████████▏                                                                | 74/354 [10:29<31:57,  6.85s/it]Setting `pad_token_id` to `eos_token_id`:128001 for open-end generation.\n",
      " 21%|█████████████████▎                                                                | 75/354 [10:37<33:35,  7.22s/it]Setting `pad_token_id` to `eos_token_id`:128001 for open-end generation.\n",
      " 21%|█████████████████▌                                                                | 76/354 [10:40<27:00,  5.83s/it]Setting `pad_token_id` to `eos_token_id`:128001 for open-end generation.\n",
      " 22%|█████████████████▊                                                                | 77/354 [10:55<40:08,  8.70s/it]Setting `pad_token_id` to `eos_token_id`:128001 for open-end generation.\n",
      " 22%|██████████████████                                                                | 78/354 [11:07<43:53,  9.54s/it]Setting `pad_token_id` to `eos_token_id`:128001 for open-end generation.\n",
      " 22%|██████████████████▎                                                               | 79/354 [11:17<45:21,  9.90s/it]Setting `pad_token_id` to `eos_token_id`:128001 for open-end generation.\n",
      " 23%|██████████████████▌                                                               | 80/354 [11:26<42:56,  9.40s/it]Setting `pad_token_id` to `eos_token_id`:128001 for open-end generation.\n",
      " 23%|██████████████████▊                                                               | 81/354 [11:28<33:31,  7.37s/it]Setting `pad_token_id` to `eos_token_id`:128001 for open-end generation.\n",
      " 23%|██████████████████▉                                                               | 82/354 [11:41<40:43,  8.98s/it]Setting `pad_token_id` to `eos_token_id`:128001 for open-end generation.\n",
      " 23%|███████████████████▏                                                              | 83/354 [11:50<40:18,  8.92s/it]Setting `pad_token_id` to `eos_token_id`:128001 for open-end generation.\n",
      " 24%|███████████████████▍                                                              | 84/354 [12:01<43:14,  9.61s/it]Setting `pad_token_id` to `eos_token_id`:128001 for open-end generation.\n",
      " 24%|███████████████████▋                                                              | 85/354 [12:03<32:21,  7.22s/it]Setting `pad_token_id` to `eos_token_id`:128001 for open-end generation.\n",
      " 24%|███████████████████▉                                                              | 86/354 [12:12<35:31,  7.95s/it]Setting `pad_token_id` to `eos_token_id`:128001 for open-end generation.\n",
      " 25%|████████████████████▏                                                             | 87/354 [12:26<43:04,  9.68s/it]Setting `pad_token_id` to `eos_token_id`:128001 for open-end generation.\n",
      " 25%|████████████████████▍                                                             | 88/354 [12:35<42:07,  9.50s/it]Setting `pad_token_id` to `eos_token_id`:128001 for open-end generation.\n",
      " 25%|████████████████████▌                                                             | 89/354 [12:44<41:29,  9.40s/it]Setting `pad_token_id` to `eos_token_id`:128001 for open-end generation.\n",
      " 25%|████████████████████▊                                                             | 90/354 [12:45<29:54,  6.80s/it]Setting `pad_token_id` to `eos_token_id`:128001 for open-end generation.\n",
      " 26%|█████████████████████                                                             | 91/354 [12:59<39:41,  9.05s/it]Setting `pad_token_id` to `eos_token_id`:128001 for open-end generation.\n",
      " 26%|████████████████████▊                                                           | 92/354 [13:24<1:00:29, 13.85s/it]Setting `pad_token_id` to `eos_token_id`:128001 for open-end generation.\n",
      " 26%|█████████████████████▌                                                            | 93/354 [13:34<55:21, 12.73s/it]Setting `pad_token_id` to `eos_token_id`:128001 for open-end generation.\n",
      " 27%|█████████████████████▊                                                            | 94/354 [13:49<57:06, 13.18s/it]Setting `pad_token_id` to `eos_token_id`:128001 for open-end generation.\n",
      " 27%|██████████████████████                                                            | 95/354 [14:04<59:22, 13.75s/it]Setting `pad_token_id` to `eos_token_id`:128001 for open-end generation.\n",
      " 27%|██████████████████████▏                                                           | 96/354 [14:15<55:15, 12.85s/it]Setting `pad_token_id` to `eos_token_id`:128001 for open-end generation.\n",
      " 27%|██████████████████████▍                                                           | 97/354 [14:16<40:53,  9.55s/it]Setting `pad_token_id` to `eos_token_id`:128001 for open-end generation.\n",
      " 28%|██████████████████████▋                                                           | 98/354 [14:18<30:08,  7.06s/it]Setting `pad_token_id` to `eos_token_id`:128001 for open-end generation.\n",
      " 28%|██████████████████████▉                                                           | 99/354 [14:18<22:06,  5.20s/it]Setting `pad_token_id` to `eos_token_id`:128001 for open-end generation.\n",
      " 28%|██████████████████████▉                                                          | 100/354 [14:20<16:55,  4.00s/it]Setting `pad_token_id` to `eos_token_id`:128001 for open-end generation.\n",
      " 29%|███████████████████████                                                          | 101/354 [14:30<25:11,  5.97s/it]Setting `pad_token_id` to `eos_token_id`:128001 for open-end generation.\n",
      " 29%|███████████████████████▎                                                         | 102/354 [14:39<29:10,  6.95s/it]Setting `pad_token_id` to `eos_token_id`:128001 for open-end generation.\n",
      " 29%|███████████████████████▌                                                         | 103/354 [14:40<21:28,  5.13s/it]Setting `pad_token_id` to `eos_token_id`:128001 for open-end generation.\n",
      " 29%|███████████████████████▊                                                         | 104/354 [14:41<16:06,  3.86s/it]Setting `pad_token_id` to `eos_token_id`:128001 for open-end generation.\n",
      " 30%|████████████████████████                                                         | 105/354 [14:42<12:16,  2.96s/it]Setting `pad_token_id` to `eos_token_id`:128001 for open-end generation.\n",
      " 30%|████████████████████████▎                                                        | 106/354 [14:43<09:36,  2.32s/it]Setting `pad_token_id` to `eos_token_id`:128001 for open-end generation.\n",
      " 30%|████████████████████████▍                                                        | 107/354 [14:44<07:56,  1.93s/it]Setting `pad_token_id` to `eos_token_id`:128001 for open-end generation.\n",
      " 31%|████████████████████████▋                                                        | 108/354 [14:45<06:46,  1.65s/it]Setting `pad_token_id` to `eos_token_id`:128001 for open-end generation.\n",
      " 31%|████████████████████████▉                                                        | 109/354 [14:46<06:09,  1.51s/it]Setting `pad_token_id` to `eos_token_id`:128001 for open-end generation.\n",
      " 31%|█████████████████████████▏                                                       | 110/354 [14:47<05:07,  1.26s/it]Setting `pad_token_id` to `eos_token_id`:128001 for open-end generation.\n",
      " 31%|█████████████████████████▍                                                       | 111/354 [14:48<04:37,  1.14s/it]Setting `pad_token_id` to `eos_token_id`:128001 for open-end generation.\n",
      " 32%|█████████████████████████▋                                                       | 112/354 [15:02<20:21,  5.05s/it]Setting `pad_token_id` to `eos_token_id`:128001 for open-end generation.\n",
      " 32%|█████████████████████████▊                                                       | 113/354 [15:04<16:10,  4.03s/it]Setting `pad_token_id` to `eos_token_id`:128001 for open-end generation.\n",
      " 32%|██████████████████████████                                                       | 114/354 [15:18<29:10,  7.29s/it]Setting `pad_token_id` to `eos_token_id`:128001 for open-end generation.\n",
      " 32%|██████████████████████████▎                                                      | 115/354 [15:32<36:47,  9.24s/it]Setting `pad_token_id` to `eos_token_id`:128001 for open-end generation.\n",
      " 33%|██████████████████████████▌                                                      | 116/354 [15:34<27:16,  6.88s/it]Setting `pad_token_id` to `eos_token_id`:128001 for open-end generation.\n",
      " 33%|██████████████████████████▊                                                      | 117/354 [15:45<32:11,  8.15s/it]Setting `pad_token_id` to `eos_token_id`:128001 for open-end generation.\n",
      " 33%|███████████████████████████                                                      | 118/354 [15:51<30:26,  7.74s/it]Setting `pad_token_id` to `eos_token_id`:128001 for open-end generation.\n",
      " 34%|███████████████████████████▏                                                     | 119/354 [16:03<34:14,  8.74s/it]Setting `pad_token_id` to `eos_token_id`:128001 for open-end generation.\n",
      " 34%|███████████████████████████▍                                                     | 120/354 [16:04<25:20,  6.50s/it]Setting `pad_token_id` to `eos_token_id`:128001 for open-end generation.\n",
      " 34%|███████████████████████████▋                                                     | 121/354 [16:07<21:01,  5.41s/it]Setting `pad_token_id` to `eos_token_id`:128001 for open-end generation.\n",
      " 34%|███████████████████████████▉                                                     | 122/354 [16:20<30:36,  7.91s/it]Setting `pad_token_id` to `eos_token_id`:128001 for open-end generation.\n",
      " 35%|████████████████████████████▏                                                    | 123/354 [16:24<25:59,  6.75s/it]Setting `pad_token_id` to `eos_token_id`:128001 for open-end generation.\n",
      " 35%|████████████████████████████▎                                                    | 124/354 [16:41<36:57,  9.64s/it]Setting `pad_token_id` to `eos_token_id`:128001 for open-end generation.\n",
      " 35%|████████████████████████████▌                                                    | 125/354 [16:49<34:36,  9.07s/it]Setting `pad_token_id` to `eos_token_id`:128001 for open-end generation.\n",
      " 36%|████████████████████████████▊                                                    | 126/354 [16:59<36:20,  9.56s/it]Setting `pad_token_id` to `eos_token_id`:128001 for open-end generation.\n",
      " 36%|█████████████████████████████                                                    | 127/354 [17:16<43:48, 11.58s/it]Setting `pad_token_id` to `eos_token_id`:128001 for open-end generation.\n",
      " 36%|█████████████████████████████▎                                                   | 128/354 [17:18<33:31,  8.90s/it]Setting `pad_token_id` to `eos_token_id`:128001 for open-end generation.\n",
      " 36%|█████████████████████████████▌                                                   | 129/354 [17:22<27:25,  7.31s/it]Setting `pad_token_id` to `eos_token_id`:128001 for open-end generation.\n",
      " 37%|█████████████████████████████▋                                                   | 130/354 [17:33<31:42,  8.49s/it]Setting `pad_token_id` to `eos_token_id`:128001 for open-end generation.\n",
      " 37%|█████████████████████████████▉                                                   | 131/354 [17:48<38:38, 10.40s/it]Setting `pad_token_id` to `eos_token_id`:128001 for open-end generation.\n",
      " 37%|██████████████████████████████▏                                                  | 132/354 [17:50<29:06,  7.87s/it]Setting `pad_token_id` to `eos_token_id`:128001 for open-end generation.\n",
      " 38%|██████████████████████████████▍                                                  | 133/354 [18:15<47:58, 13.02s/it]Setting `pad_token_id` to `eos_token_id`:128001 for open-end generation.\n",
      " 38%|██████████████████████████████▋                                                  | 134/354 [18:26<45:12, 12.33s/it]Setting `pad_token_id` to `eos_token_id`:128001 for open-end generation.\n",
      " 38%|██████████████████████████████▉                                                  | 135/354 [18:37<44:15, 12.13s/it]Setting `pad_token_id` to `eos_token_id`:128001 for open-end generation.\n",
      " 38%|███████████████████████████████                                                  | 136/354 [18:38<31:45,  8.74s/it]Setting `pad_token_id` to `eos_token_id`:128001 for open-end generation.\n",
      " 39%|███████████████████████████████▎                                                 | 137/354 [18:44<28:39,  7.93s/it]Setting `pad_token_id` to `eos_token_id`:128001 for open-end generation.\n",
      " 39%|███████████████████████████████▌                                                 | 138/354 [18:46<21:28,  5.96s/it]Setting `pad_token_id` to `eos_token_id`:128001 for open-end generation.\n",
      " 39%|███████████████████████████████▊                                                 | 139/354 [19:03<33:59,  9.48s/it]Setting `pad_token_id` to `eos_token_id`:128001 for open-end generation.\n",
      " 40%|████████████████████████████████                                                 | 140/354 [19:06<26:55,  7.55s/it]Setting `pad_token_id` to `eos_token_id`:128001 for open-end generation.\n",
      " 40%|████████████████████████████████▎                                                | 141/354 [19:18<30:43,  8.66s/it]Setting `pad_token_id` to `eos_token_id`:128001 for open-end generation.\n",
      " 40%|████████████████████████████████▍                                                | 142/354 [19:26<30:07,  8.52s/it]Setting `pad_token_id` to `eos_token_id`:128001 for open-end generation.\n",
      " 40%|████████████████████████████████▋                                                | 143/354 [19:38<34:17,  9.75s/it]Setting `pad_token_id` to `eos_token_id`:128001 for open-end generation.\n",
      " 41%|████████████████████████████████▉                                                | 144/354 [19:47<32:27,  9.28s/it]Setting `pad_token_id` to `eos_token_id`:128001 for open-end generation.\n",
      " 41%|█████████████████████████████████▏                                               | 145/354 [20:04<41:17, 11.86s/it]Setting `pad_token_id` to `eos_token_id`:128001 for open-end generation.\n",
      " 41%|█████████████████████████████████▍                                               | 146/354 [20:12<37:09, 10.72s/it]Setting `pad_token_id` to `eos_token_id`:128001 for open-end generation.\n",
      " 42%|█████████████████████████████████▋                                               | 147/354 [20:23<36:25, 10.56s/it]Setting `pad_token_id` to `eos_token_id`:128001 for open-end generation.\n",
      " 42%|█████████████████████████████████▊                                               | 148/354 [20:31<34:06,  9.93s/it]Setting `pad_token_id` to `eos_token_id`:128001 for open-end generation.\n",
      " 42%|██████████████████████████████████                                               | 149/354 [20:34<26:20,  7.71s/it]Setting `pad_token_id` to `eos_token_id`:128001 for open-end generation.\n",
      " 42%|██████████████████████████████████▎                                              | 150/354 [20:50<35:20, 10.39s/it]Setting `pad_token_id` to `eos_token_id`:128001 for open-end generation.\n",
      " 43%|██████████████████████████████████▌                                              | 151/354 [20:58<32:28,  9.60s/it]Setting `pad_token_id` to `eos_token_id`:128001 for open-end generation.\n",
      " 43%|██████████████████████████████████▊                                              | 152/354 [21:06<30:15,  8.99s/it]Setting `pad_token_id` to `eos_token_id`:128001 for open-end generation.\n",
      " 43%|███████████████████████████████████                                              | 153/354 [21:07<22:48,  6.81s/it]Setting `pad_token_id` to `eos_token_id`:128001 for open-end generation.\n",
      " 44%|███████████████████████████████████▏                                             | 154/354 [21:21<29:44,  8.92s/it]Setting `pad_token_id` to `eos_token_id`:128001 for open-end generation.\n",
      " 44%|███████████████████████████████████▍                                             | 155/354 [21:33<32:20,  9.75s/it]Setting `pad_token_id` to `eos_token_id`:128001 for open-end generation.\n",
      " 44%|███████████████████████████████████▋                                             | 156/354 [21:41<30:22,  9.20s/it]Setting `pad_token_id` to `eos_token_id`:128001 for open-end generation.\n",
      " 44%|███████████████████████████████████▉                                             | 157/354 [21:55<34:46, 10.59s/it]Setting `pad_token_id` to `eos_token_id`:128001 for open-end generation.\n",
      " 45%|████████████████████████████████████▏                                            | 158/354 [22:08<37:19, 11.43s/it]Setting `pad_token_id` to `eos_token_id`:128001 for open-end generation.\n",
      " 45%|████████████████████████████████████▍                                            | 159/354 [22:19<37:10, 11.44s/it]Setting `pad_token_id` to `eos_token_id`:128001 for open-end generation.\n",
      " 45%|████████████████████████████████████▌                                            | 160/354 [22:30<35:59, 11.13s/it]Setting `pad_token_id` to `eos_token_id`:128001 for open-end generation.\n",
      " 45%|████████████████████████████████████▊                                            | 161/354 [22:41<35:25, 11.01s/it]Setting `pad_token_id` to `eos_token_id`:128001 for open-end generation.\n",
      " 46%|█████████████████████████████████████                                            | 162/354 [22:56<39:31, 12.35s/it]Setting `pad_token_id` to `eos_token_id`:128001 for open-end generation.\n",
      " 46%|█████████████████████████████████████▎                                           | 163/354 [22:58<28:57,  9.10s/it]Setting `pad_token_id` to `eos_token_id`:128001 for open-end generation.\n",
      " 46%|█████████████████████████████████████▌                                           | 164/354 [23:03<25:29,  8.05s/it]Setting `pad_token_id` to `eos_token_id`:128001 for open-end generation.\n",
      " 47%|█████████████████████████████████████▊                                           | 165/354 [23:14<27:53,  8.85s/it]Setting `pad_token_id` to `eos_token_id`:128001 for open-end generation.\n",
      " 47%|█████████████████████████████████████▉                                           | 166/354 [23:15<20:13,  6.45s/it]Setting `pad_token_id` to `eos_token_id`:128001 for open-end generation.\n",
      " 47%|██████████████████████████████████████▏                                          | 167/354 [23:25<23:45,  7.63s/it]Setting `pad_token_id` to `eos_token_id`:128001 for open-end generation.\n",
      " 47%|██████████████████████████████████████▍                                          | 168/354 [23:26<17:20,  5.59s/it]Setting `pad_token_id` to `eos_token_id`:128001 for open-end generation.\n",
      " 48%|██████████████████████████████████████▋                                          | 169/354 [23:37<22:00,  7.14s/it]Setting `pad_token_id` to `eos_token_id`:128001 for open-end generation.\n",
      " 48%|██████████████████████████████████████▉                                          | 170/354 [23:38<16:15,  5.30s/it]Setting `pad_token_id` to `eos_token_id`:128001 for open-end generation.\n",
      " 48%|███████████████████████████████████████▏                                         | 171/354 [23:39<12:49,  4.21s/it]Setting `pad_token_id` to `eos_token_id`:128001 for open-end generation.\n",
      " 49%|███████████████████████████████████████▎                                         | 172/354 [23:51<19:19,  6.37s/it]Setting `pad_token_id` to `eos_token_id`:128001 for open-end generation.\n",
      " 49%|███████████████████████████████████████▌                                         | 173/354 [24:00<21:20,  7.07s/it]Setting `pad_token_id` to `eos_token_id`:128001 for open-end generation.\n",
      " 49%|███████████████████████████████████████▊                                         | 174/354 [24:00<15:36,  5.20s/it]Setting `pad_token_id` to `eos_token_id`:128001 for open-end generation.\n",
      " 49%|████████████████████████████████████████                                         | 175/354 [24:02<11:55,  4.00s/it]Setting `pad_token_id` to `eos_token_id`:128001 for open-end generation.\n",
      " 50%|████████████████████████████████████████▎                                        | 176/354 [24:12<17:30,  5.90s/it]Setting `pad_token_id` to `eos_token_id`:128001 for open-end generation.\n",
      " 50%|████████████████████████████████████████▌                                        | 177/354 [24:23<21:42,  7.36s/it]Setting `pad_token_id` to `eos_token_id`:128001 for open-end generation.\n",
      " 50%|████████████████████████████████████████▋                                        | 178/354 [24:32<23:05,  7.87s/it]Setting `pad_token_id` to `eos_token_id`:128001 for open-end generation.\n",
      " 51%|████████████████████████████████████████▉                                        | 179/354 [24:41<24:03,  8.25s/it]Setting `pad_token_id` to `eos_token_id`:128001 for open-end generation.\n",
      " 51%|█████████████████████████████████████████▏                                       | 180/354 [24:54<27:45,  9.57s/it]Setting `pad_token_id` to `eos_token_id`:128001 for open-end generation.\n",
      " 51%|█████████████████████████████████████████▍                                       | 181/354 [25:04<28:36,  9.92s/it]Setting `pad_token_id` to `eos_token_id`:128001 for open-end generation.\n",
      " 51%|█████████████████████████████████████████▋                                       | 182/354 [25:15<29:04, 10.14s/it]Setting `pad_token_id` to `eos_token_id`:128001 for open-end generation.\n",
      " 52%|█████████████████████████████████████████▊                                       | 183/354 [25:21<25:27,  8.93s/it]Setting `pad_token_id` to `eos_token_id`:128001 for open-end generation.\n",
      " 52%|██████████████████████████████████████████                                       | 184/354 [25:32<26:57,  9.52s/it]Setting `pad_token_id` to `eos_token_id`:128001 for open-end generation.\n",
      " 52%|██████████████████████████████████████████▎                                      | 185/354 [25:46<30:43, 10.91s/it]Setting `pad_token_id` to `eos_token_id`:128001 for open-end generation.\n",
      " 53%|██████████████████████████████████████████▌                                      | 186/354 [25:47<22:22,  7.99s/it]Setting `pad_token_id` to `eos_token_id`:128001 for open-end generation.\n",
      " 53%|██████████████████████████████████████████▊                                      | 187/354 [25:57<23:35,  8.48s/it]Setting `pad_token_id` to `eos_token_id`:128001 for open-end generation.\n",
      " 53%|███████████████████████████████████████████                                      | 188/354 [26:06<23:43,  8.58s/it]Setting `pad_token_id` to `eos_token_id`:128001 for open-end generation.\n",
      " 53%|███████████████████████████████████████████▏                                     | 189/354 [26:17<26:04,  9.48s/it]Setting `pad_token_id` to `eos_token_id`:128001 for open-end generation.\n",
      " 54%|███████████████████████████████████████████▍                                     | 190/354 [26:18<18:44,  6.85s/it]Setting `pad_token_id` to `eos_token_id`:128001 for open-end generation.\n",
      " 54%|███████████████████████████████████████████▋                                     | 191/354 [26:27<20:30,  7.55s/it]Setting `pad_token_id` to `eos_token_id`:128001 for open-end generation.\n",
      " 54%|███████████████████████████████████████████▉                                     | 192/354 [26:37<22:12,  8.23s/it]Setting `pad_token_id` to `eos_token_id`:128001 for open-end generation.\n",
      " 55%|████████████████████████████████████████████▏                                    | 193/354 [26:48<24:03,  8.97s/it]Setting `pad_token_id` to `eos_token_id`:128001 for open-end generation.\n",
      " 55%|████████████████████████████████████████████▍                                    | 194/354 [26:59<25:34,  9.59s/it]Setting `pad_token_id` to `eos_token_id`:128001 for open-end generation.\n",
      " 55%|████████████████████████████████████████████▌                                    | 195/354 [27:08<25:01,  9.44s/it]Setting `pad_token_id` to `eos_token_id`:128001 for open-end generation.\n",
      " 55%|████████████████████████████████████████████▊                                    | 196/354 [27:19<26:27, 10.05s/it]Setting `pad_token_id` to `eos_token_id`:128001 for open-end generation.\n",
      " 56%|█████████████████████████████████████████████                                    | 197/354 [27:22<20:36,  7.88s/it]Setting `pad_token_id` to `eos_token_id`:128001 for open-end generation.\n",
      " 56%|█████████████████████████████████████████████▎                                   | 198/354 [27:31<21:24,  8.23s/it]Setting `pad_token_id` to `eos_token_id`:128001 for open-end generation.\n",
      " 56%|█████████████████████████████████████████████▌                                   | 199/354 [27:40<21:48,  8.44s/it]Setting `pad_token_id` to `eos_token_id`:128001 for open-end generation.\n",
      " 56%|█████████████████████████████████████████████▊                                   | 200/354 [27:55<26:32, 10.34s/it]Setting `pad_token_id` to `eos_token_id`:128001 for open-end generation.\n",
      " 57%|█████████████████████████████████████████████▉                                   | 201/354 [28:02<23:36,  9.26s/it]Setting `pad_token_id` to `eos_token_id`:128001 for open-end generation.\n",
      " 57%|██████████████████████████████████████████████▏                                  | 202/354 [28:12<24:11,  9.55s/it]Setting `pad_token_id` to `eos_token_id`:128001 for open-end generation.\n",
      " 57%|██████████████████████████████████████████████▍                                  | 203/354 [28:23<25:28, 10.12s/it]Setting `pad_token_id` to `eos_token_id`:128001 for open-end generation.\n",
      " 58%|██████████████████████████████████████████████▋                                  | 204/354 [28:25<19:22,  7.75s/it]Setting `pad_token_id` to `eos_token_id`:128001 for open-end generation.\n",
      " 58%|██████████████████████████████████████████████▉                                  | 205/354 [28:33<18:58,  7.64s/it]Setting `pad_token_id` to `eos_token_id`:128001 for open-end generation.\n",
      " 58%|███████████████████████████████████████████████▏                                 | 206/354 [28:37<16:07,  6.54s/it]Setting `pad_token_id` to `eos_token_id`:128001 for open-end generation.\n",
      " 58%|███████████████████████████████████████████████▎                                 | 207/354 [28:38<11:50,  4.83s/it]Setting `pad_token_id` to `eos_token_id`:128001 for open-end generation.\n",
      " 59%|███████████████████████████████████████████████▌                                 | 208/354 [28:39<09:14,  3.80s/it]Setting `pad_token_id` to `eos_token_id`:128001 for open-end generation.\n",
      " 59%|███████████████████████████████████████████████▊                                 | 209/354 [28:40<07:07,  2.95s/it]Setting `pad_token_id` to `eos_token_id`:128001 for open-end generation.\n",
      " 59%|████████████████████████████████████████████████                                 | 210/354 [28:42<06:20,  2.64s/it]Setting `pad_token_id` to `eos_token_id`:128001 for open-end generation.\n",
      " 60%|████████████████████████████████████████████████▎                                | 211/354 [29:00<16:57,  7.12s/it]Setting `pad_token_id` to `eos_token_id`:128001 for open-end generation.\n",
      " 60%|████████████████████████████████████████████████▌                                | 212/354 [29:01<12:30,  5.28s/it]Setting `pad_token_id` to `eos_token_id`:128001 for open-end generation.\n",
      " 60%|████████████████████████████████████████████████▋                                | 213/354 [29:02<09:32,  4.06s/it]Setting `pad_token_id` to `eos_token_id`:128001 for open-end generation.\n",
      " 60%|████████████████████████████████████████████████▉                                | 214/354 [29:13<14:42,  6.31s/it]Setting `pad_token_id` to `eos_token_id`:128001 for open-end generation.\n",
      " 61%|█████████████████████████████████████████████████▏                               | 215/354 [29:25<18:14,  7.88s/it]Setting `pad_token_id` to `eos_token_id`:128001 for open-end generation.\n",
      " 61%|█████████████████████████████████████████████████▍                               | 216/354 [29:29<15:20,  6.67s/it]Setting `pad_token_id` to `eos_token_id`:128001 for open-end generation.\n",
      " 61%|█████████████████████████████████████████████████▋                               | 217/354 [29:38<17:08,  7.51s/it]Setting `pad_token_id` to `eos_token_id`:128001 for open-end generation.\n",
      " 62%|█████████████████████████████████████████████████▉                               | 218/354 [29:53<22:18,  9.84s/it]Setting `pad_token_id` to `eos_token_id`:128001 for open-end generation.\n",
      " 62%|██████████████████████████████████████████████████                               | 219/354 [29:56<17:32,  7.80s/it]Setting `pad_token_id` to `eos_token_id`:128001 for open-end generation.\n",
      " 62%|██████████████████████████████████████████████████▎                              | 220/354 [30:10<21:07,  9.46s/it]Setting `pad_token_id` to `eos_token_id`:128001 for open-end generation.\n",
      " 62%|██████████████████████████████████████████████████▌                              | 221/354 [30:11<15:14,  6.88s/it]Setting `pad_token_id` to `eos_token_id`:128001 for open-end generation.\n",
      " 63%|██████████████████████████████████████████████████▊                              | 222/354 [30:15<13:20,  6.06s/it]Setting `pad_token_id` to `eos_token_id`:128001 for open-end generation.\n",
      " 63%|███████████████████████████████████████████████████                              | 223/354 [30:26<16:17,  7.46s/it]Setting `pad_token_id` to `eos_token_id`:128001 for open-end generation.\n",
      " 63%|███████████████████████████████████████████████████▎                             | 224/354 [30:35<17:29,  8.07s/it]Setting `pad_token_id` to `eos_token_id`:128001 for open-end generation.\n",
      " 64%|███████████████████████████████████████████████████▍                             | 225/354 [30:50<22:05, 10.27s/it]Setting `pad_token_id` to `eos_token_id`:128001 for open-end generation.\n",
      " 64%|███████████████████████████████████████████████████▋                             | 226/354 [30:52<16:07,  7.56s/it]Setting `pad_token_id` to `eos_token_id`:128001 for open-end generation.\n",
      " 64%|███████████████████████████████████████████████████▉                             | 227/354 [30:52<11:43,  5.54s/it]Setting `pad_token_id` to `eos_token_id`:128001 for open-end generation.\n",
      " 64%|████████████████████████████████████████████████████▏                            | 228/354 [31:03<14:59,  7.14s/it]Setting `pad_token_id` to `eos_token_id`:128001 for open-end generation.\n",
      " 65%|████████████████████████████████████████████████████▍                            | 229/354 [31:20<20:58, 10.07s/it]Setting `pad_token_id` to `eos_token_id`:128001 for open-end generation.\n",
      " 65%|████████████████████████████████████████████████████▋                            | 230/354 [31:25<17:48,  8.61s/it]Setting `pad_token_id` to `eos_token_id`:128001 for open-end generation.\n",
      " 65%|████████████████████████████████████████████████████▊                            | 231/354 [31:36<18:54,  9.23s/it]Setting `pad_token_id` to `eos_token_id`:128001 for open-end generation.\n",
      " 66%|█████████████████████████████████████████████████████                            | 232/354 [31:47<19:44,  9.71s/it]Setting `pad_token_id` to `eos_token_id`:128001 for open-end generation.\n",
      " 66%|█████████████████████████████████████████████████████▎                           | 233/354 [31:53<17:04,  8.47s/it]Setting `pad_token_id` to `eos_token_id`:128001 for open-end generation.\n",
      " 66%|█████████████████████████████████████████████████████▌                           | 234/354 [31:54<12:42,  6.35s/it]Setting `pad_token_id` to `eos_token_id`:128001 for open-end generation.\n",
      " 66%|█████████████████████████████████████████████████████▊                           | 235/354 [31:55<09:31,  4.80s/it]Setting `pad_token_id` to `eos_token_id`:128001 for open-end generation.\n",
      " 67%|██████████████████████████████████████████████████████                           | 236/354 [31:56<07:22,  3.75s/it]Setting `pad_token_id` to `eos_token_id`:128001 for open-end generation.\n",
      " 67%|██████████████████████████████████████████████████████▏                          | 237/354 [32:07<11:23,  5.84s/it]Setting `pad_token_id` to `eos_token_id`:128001 for open-end generation.\n",
      " 67%|██████████████████████████████████████████████████████▍                          | 238/354 [32:08<08:29,  4.39s/it]Setting `pad_token_id` to `eos_token_id`:128001 for open-end generation.\n",
      " 68%|██████████████████████████████████████████████████████▋                          | 239/354 [32:09<06:36,  3.45s/it]Setting `pad_token_id` to `eos_token_id`:128001 for open-end generation.\n",
      " 68%|██████████████████████████████████████████████████████▉                          | 240/354 [32:19<10:08,  5.34s/it]Setting `pad_token_id` to `eos_token_id`:128001 for open-end generation.\n",
      " 68%|███████████████████████████████████████████████████████▏                         | 241/354 [32:28<11:46,  6.26s/it]Setting `pad_token_id` to `eos_token_id`:128001 for open-end generation.\n",
      " 68%|███████████████████████████████████████████████████████▎                         | 242/354 [32:39<14:46,  7.92s/it]Setting `pad_token_id` to `eos_token_id`:128001 for open-end generation.\n",
      " 69%|███████████████████████████████████████████████████████▌                         | 243/354 [32:41<11:22,  6.15s/it]Setting `pad_token_id` to `eos_token_id`:128001 for open-end generation.\n",
      " 69%|███████████████████████████████████████████████████████▊                         | 244/354 [32:55<15:30,  8.46s/it]Setting `pad_token_id` to `eos_token_id`:128001 for open-end generation.\n",
      " 69%|████████████████████████████████████████████████████████                         | 245/354 [32:56<11:19,  6.24s/it]Setting `pad_token_id` to `eos_token_id`:128001 for open-end generation.\n",
      " 69%|████████████████████████████████████████████████████████▎                        | 246/354 [32:58<08:48,  4.89s/it]Setting `pad_token_id` to `eos_token_id`:128001 for open-end generation.\n",
      " 70%|████████████████████████████████████████████████████████▌                        | 247/354 [33:01<07:34,  4.25s/it]Setting `pad_token_id` to `eos_token_id`:128001 for open-end generation.\n",
      " 70%|████████████████████████████████████████████████████████▋                        | 248/354 [33:12<11:06,  6.29s/it]Setting `pad_token_id` to `eos_token_id`:128001 for open-end generation.\n",
      " 70%|████████████████████████████████████████████████████████▉                        | 249/354 [33:26<14:56,  8.54s/it]Setting `pad_token_id` to `eos_token_id`:128001 for open-end generation.\n",
      " 71%|█████████████████████████████████████████████████████████▏                       | 250/354 [33:39<17:34, 10.14s/it]Setting `pad_token_id` to `eos_token_id`:128001 for open-end generation.\n",
      " 71%|█████████████████████████████████████████████████████████▍                       | 251/354 [33:46<15:38,  9.11s/it]Setting `pad_token_id` to `eos_token_id`:128001 for open-end generation.\n",
      " 71%|█████████████████████████████████████████████████████████▋                       | 252/354 [33:57<16:17,  9.59s/it]Setting `pad_token_id` to `eos_token_id`:128001 for open-end generation.\n",
      " 71%|█████████████████████████████████████████████████████████▉                       | 253/354 [34:13<19:35, 11.64s/it]Setting `pad_token_id` to `eos_token_id`:128001 for open-end generation.\n",
      " 72%|██████████████████████████████████████████████████████████                       | 254/354 [34:31<22:20, 13.41s/it]Setting `pad_token_id` to `eos_token_id`:128001 for open-end generation.\n",
      " 72%|██████████████████████████████████████████████████████████▎                      | 255/354 [34:38<18:54, 11.46s/it]Setting `pad_token_id` to `eos_token_id`:128001 for open-end generation.\n",
      " 72%|██████████████████████████████████████████████████████████▌                      | 256/354 [34:50<18:54, 11.57s/it]Setting `pad_token_id` to `eos_token_id`:128001 for open-end generation.\n",
      " 73%|██████████████████████████████████████████████████████████▊                      | 257/354 [34:58<17:01, 10.53s/it]Setting `pad_token_id` to `eos_token_id`:128001 for open-end generation.\n",
      " 73%|███████████████████████████████████████████████████████████                      | 258/354 [35:07<16:09, 10.09s/it]Setting `pad_token_id` to `eos_token_id`:128001 for open-end generation.\n",
      " 73%|███████████████████████████████████████████████████████████▎                     | 259/354 [35:14<14:42,  9.29s/it]Setting `pad_token_id` to `eos_token_id`:128001 for open-end generation.\n",
      " 73%|███████████████████████████████████████████████████████████▍                     | 260/354 [35:25<15:16,  9.75s/it]Setting `pad_token_id` to `eos_token_id`:128001 for open-end generation.\n",
      " 74%|███████████████████████████████████████████████████████████▋                     | 261/354 [35:36<15:33, 10.03s/it]Setting `pad_token_id` to `eos_token_id`:128001 for open-end generation.\n",
      " 74%|███████████████████████████████████████████████████████████▉                     | 262/354 [35:44<14:32,  9.49s/it]Setting `pad_token_id` to `eos_token_id`:128001 for open-end generation.\n",
      " 74%|████████████████████████████████████████████████████████████▏                    | 263/354 [35:51<13:15,  8.74s/it]Setting `pad_token_id` to `eos_token_id`:128001 for open-end generation.\n",
      " 75%|████████████████████████████████████████████████████████████▍                    | 264/354 [36:00<13:04,  8.72s/it]Setting `pad_token_id` to `eos_token_id`:128001 for open-end generation.\n",
      " 75%|████████████████████████████████████████████████████████████▋                    | 265/354 [36:17<16:40, 11.25s/it]Setting `pad_token_id` to `eos_token_id`:128001 for open-end generation.\n",
      " 75%|████████████████████████████████████████████████████████████▊                    | 266/354 [36:23<14:18,  9.75s/it]Setting `pad_token_id` to `eos_token_id`:128001 for open-end generation.\n",
      " 75%|█████████████████████████████████████████████████████████████                    | 267/354 [36:27<11:46,  8.12s/it]Setting `pad_token_id` to `eos_token_id`:128001 for open-end generation.\n",
      " 76%|█████████████████████████████████████████████████████████████▎                   | 268/354 [36:36<11:52,  8.29s/it]Setting `pad_token_id` to `eos_token_id`:128001 for open-end generation.\n",
      " 76%|█████████████████████████████████████████████████████████████▌                   | 269/354 [36:38<08:56,  6.31s/it]Setting `pad_token_id` to `eos_token_id`:128001 for open-end generation.\n",
      " 76%|█████████████████████████████████████████████████████████████▊                   | 270/354 [36:48<10:18,  7.37s/it]Setting `pad_token_id` to `eos_token_id`:128001 for open-end generation.\n",
      " 77%|██████████████████████████████████████████████████████████████                   | 271/354 [36:48<07:28,  5.41s/it]Setting `pad_token_id` to `eos_token_id`:128001 for open-end generation.\n",
      " 77%|██████████████████████████████████████████████████████████████▏                  | 272/354 [36:52<06:37,  4.84s/it]Setting `pad_token_id` to `eos_token_id`:128001 for open-end generation.\n",
      " 77%|██████████████████████████████████████████████████████████████▍                  | 273/354 [37:06<10:13,  7.57s/it]Setting `pad_token_id` to `eos_token_id`:128001 for open-end generation.\n",
      " 77%|██████████████████████████████████████████████████████████████▋                  | 274/354 [37:16<10:59,  8.25s/it]Setting `pad_token_id` to `eos_token_id`:128001 for open-end generation.\n",
      " 78%|██████████████████████████████████████████████████████████████▉                  | 275/354 [37:29<12:57,  9.84s/it]Setting `pad_token_id` to `eos_token_id`:128001 for open-end generation.\n",
      " 78%|███████████████████████████████████████████████████████████████▏                 | 276/354 [37:40<13:08, 10.10s/it]Setting `pad_token_id` to `eos_token_id`:128001 for open-end generation.\n",
      " 78%|███████████████████████████████████████████████████████████████▍                 | 277/354 [37:50<13:06, 10.22s/it]Setting `pad_token_id` to `eos_token_id`:128001 for open-end generation.\n",
      " 79%|███████████████████████████████████████████████████████████████▌                 | 278/354 [38:01<12:59, 10.25s/it]Setting `pad_token_id` to `eos_token_id`:128001 for open-end generation.\n",
      " 79%|███████████████████████████████████████████████████████████████▊                 | 279/354 [38:11<12:47, 10.23s/it]Setting `pad_token_id` to `eos_token_id`:128001 for open-end generation.\n",
      " 79%|████████████████████████████████████████████████████████████████                 | 280/354 [38:19<11:44,  9.52s/it]Setting `pad_token_id` to `eos_token_id`:128001 for open-end generation.\n",
      " 79%|████████████████████████████████████████████████████████████████▎                | 281/354 [38:28<11:28,  9.42s/it]Setting `pad_token_id` to `eos_token_id`:128001 for open-end generation.\n",
      " 80%|████████████████████████████████████████████████████████████████▌                | 282/354 [38:36<10:48,  9.01s/it]Setting `pad_token_id` to `eos_token_id`:128001 for open-end generation.\n",
      " 80%|████████████████████████████████████████████████████████████████▊                | 283/354 [38:47<11:15,  9.51s/it]Setting `pad_token_id` to `eos_token_id`:128001 for open-end generation.\n",
      " 80%|████████████████████████████████████████████████████████████████▉                | 284/354 [38:56<11:09,  9.56s/it]Setting `pad_token_id` to `eos_token_id`:128001 for open-end generation.\n",
      " 81%|█████████████████████████████████████████████████████████████████▏               | 285/354 [39:03<09:59,  8.68s/it]Setting `pad_token_id` to `eos_token_id`:128001 for open-end generation.\n",
      " 81%|█████████████████████████████████████████████████████████████████▍               | 286/354 [39:11<09:41,  8.54s/it]Setting `pad_token_id` to `eos_token_id`:128001 for open-end generation.\n",
      " 81%|█████████████████████████████████████████████████████████████████▋               | 287/354 [39:20<09:43,  8.71s/it]Setting `pad_token_id` to `eos_token_id`:128001 for open-end generation.\n",
      " 81%|█████████████████████████████████████████████████████████████████▉               | 288/354 [39:29<09:24,  8.55s/it]Setting `pad_token_id` to `eos_token_id`:128001 for open-end generation.\n",
      " 82%|██████████████████████████████████████████████████████████████████▏              | 289/354 [39:38<09:43,  8.98s/it]Setting `pad_token_id` to `eos_token_id`:128001 for open-end generation.\n",
      " 82%|██████████████████████████████████████████████████████████████████▎              | 290/354 [39:52<11:08, 10.45s/it]Setting `pad_token_id` to `eos_token_id`:128001 for open-end generation.\n",
      " 82%|██████████████████████████████████████████████████████████████████▌              | 291/354 [39:59<09:53,  9.43s/it]Setting `pad_token_id` to `eos_token_id`:128001 for open-end generation.\n",
      " 82%|██████████████████████████████████████████████████████████████████▊              | 292/354 [40:09<09:49,  9.51s/it]Setting `pad_token_id` to `eos_token_id`:128001 for open-end generation.\n",
      " 83%|███████████████████████████████████████████████████████████████████              | 293/354 [40:16<08:54,  8.77s/it]Setting `pad_token_id` to `eos_token_id`:128001 for open-end generation.\n",
      " 83%|███████████████████████████████████████████████████████████████████▎             | 294/354 [40:24<08:32,  8.54s/it]Setting `pad_token_id` to `eos_token_id`:128001 for open-end generation.\n",
      " 83%|███████████████████████████████████████████████████████████████████▌             | 295/354 [40:30<07:34,  7.70s/it]Setting `pad_token_id` to `eos_token_id`:128001 for open-end generation.\n",
      " 84%|███████████████████████████████████████████████████████████████████▋             | 296/354 [40:34<06:25,  6.65s/it]Setting `pad_token_id` to `eos_token_id`:128001 for open-end generation.\n",
      " 84%|███████████████████████████████████████████████████████████████████▉             | 297/354 [40:51<09:17,  9.77s/it]Setting `pad_token_id` to `eos_token_id`:128001 for open-end generation.\n",
      " 84%|████████████████████████████████████████████████████████████████████▏            | 298/354 [41:06<10:33, 11.32s/it]Setting `pad_token_id` to `eos_token_id`:128001 for open-end generation.\n",
      " 84%|████████████████████████████████████████████████████████████████████▍            | 299/354 [41:18<10:31, 11.48s/it]Setting `pad_token_id` to `eos_token_id`:128001 for open-end generation.\n",
      " 85%|████████████████████████████████████████████████████████████████████▋            | 300/354 [41:42<13:47, 15.33s/it]Setting `pad_token_id` to `eos_token_id`:128001 for open-end generation.\n",
      " 85%|████████████████████████████████████████████████████████████████████▊            | 301/354 [41:57<13:17, 15.05s/it]Setting `pad_token_id` to `eos_token_id`:128001 for open-end generation.\n",
      " 85%|█████████████████████████████████████████████████████████████████████            | 302/354 [42:10<12:36, 14.55s/it]Setting `pad_token_id` to `eos_token_id`:128001 for open-end generation.\n",
      " 86%|█████████████████████████████████████████████████████████████████████▎           | 303/354 [42:27<13:05, 15.41s/it]Setting `pad_token_id` to `eos_token_id`:128001 for open-end generation.\n",
      " 86%|█████████████████████████████████████████████████████████████████████▌           | 304/354 [42:29<09:29, 11.39s/it]Setting `pad_token_id` to `eos_token_id`:128001 for open-end generation.\n",
      " 86%|█████████████████████████████████████████████████████████████████████▊           | 305/354 [42:45<10:17, 12.59s/it]Setting `pad_token_id` to `eos_token_id`:128001 for open-end generation.\n",
      " 86%|██████████████████████████████████████████████████████████████████████           | 306/354 [43:07<12:29, 15.61s/it]Setting `pad_token_id` to `eos_token_id`:128001 for open-end generation.\n",
      " 87%|██████████████████████████████████████████████████████████████████████▏          | 307/354 [43:23<12:17, 15.68s/it]Setting `pad_token_id` to `eos_token_id`:128001 for open-end generation.\n",
      " 87%|██████████████████████████████████████████████████████████████████████▍          | 308/354 [43:47<13:52, 18.10s/it]Setting `pad_token_id` to `eos_token_id`:128001 for open-end generation.\n",
      " 87%|██████████████████████████████████████████████████████████████████████▋          | 309/354 [43:59<12:11, 16.24s/it]Setting `pad_token_id` to `eos_token_id`:128001 for open-end generation.\n",
      " 88%|██████████████████████████████████████████████████████████████████████▉          | 310/354 [44:08<10:24, 14.20s/it]Setting `pad_token_id` to `eos_token_id`:128001 for open-end generation.\n",
      " 88%|███████████████████████████████████████████████████████████████████████▏         | 311/354 [44:16<08:46, 12.26s/it]Setting `pad_token_id` to `eos_token_id`:128001 for open-end generation.\n",
      " 88%|███████████████████████████████████████████████████████████████████████▍         | 312/354 [44:32<09:23, 13.41s/it]Setting `pad_token_id` to `eos_token_id`:128001 for open-end generation.\n",
      " 88%|███████████████████████████████████████████████████████████████████████▌         | 313/354 [44:43<08:41, 12.72s/it]Setting `pad_token_id` to `eos_token_id`:128001 for open-end generation.\n",
      " 89%|███████████████████████████████████████████████████████████████████████▊         | 314/354 [44:53<07:48, 11.72s/it]Setting `pad_token_id` to `eos_token_id`:128001 for open-end generation.\n",
      " 89%|████████████████████████████████████████████████████████████████████████         | 315/354 [45:03<07:24, 11.39s/it]Setting `pad_token_id` to `eos_token_id`:128001 for open-end generation.\n",
      " 89%|████████████████████████████████████████████████████████████████████████▎        | 316/354 [45:15<07:17, 11.52s/it]Setting `pad_token_id` to `eos_token_id`:128001 for open-end generation.\n",
      " 90%|████████████████████████████████████████████████████████████████████████▌        | 317/354 [45:25<06:47, 11.02s/it]Setting `pad_token_id` to `eos_token_id`:128001 for open-end generation.\n",
      " 90%|████████████████████████████████████████████████████████████████████████▊        | 318/354 [45:43<07:55, 13.20s/it]Setting `pad_token_id` to `eos_token_id`:128001 for open-end generation.\n",
      " 90%|████████████████████████████████████████████████████████████████████████▉        | 319/354 [45:58<07:52, 13.50s/it]Setting `pad_token_id` to `eos_token_id`:128001 for open-end generation.\n",
      " 90%|█████████████████████████████████████████████████████████████████████████▏       | 320/354 [46:09<07:19, 12.93s/it]Setting `pad_token_id` to `eos_token_id`:128001 for open-end generation.\n",
      " 91%|█████████████████████████████████████████████████████████████████████████▍       | 321/354 [46:23<07:18, 13.28s/it]Setting `pad_token_id` to `eos_token_id`:128001 for open-end generation.\n",
      " 91%|█████████████████████████████████████████████████████████████████████████▋       | 322/354 [46:32<06:21, 11.92s/it]Setting `pad_token_id` to `eos_token_id`:128001 for open-end generation.\n",
      " 91%|█████████████████████████████████████████████████████████████████████████▉       | 323/354 [46:39<05:27, 10.57s/it]Setting `pad_token_id` to `eos_token_id`:128001 for open-end generation.\n",
      " 92%|██████████████████████████████████████████████████████████████████████████▏      | 324/354 [46:49<05:11, 10.37s/it]Setting `pad_token_id` to `eos_token_id`:128001 for open-end generation.\n",
      " 92%|██████████████████████████████████████████████████████████████████████████▎      | 325/354 [47:05<05:47, 11.97s/it]Setting `pad_token_id` to `eos_token_id`:128001 for open-end generation.\n",
      " 92%|██████████████████████████████████████████████████████████████████████████▌      | 326/354 [47:13<05:00, 10.73s/it]Setting `pad_token_id` to `eos_token_id`:128001 for open-end generation.\n",
      " 92%|██████████████████████████████████████████████████████████████████████████▊      | 327/354 [47:23<04:45, 10.58s/it]Setting `pad_token_id` to `eos_token_id`:128001 for open-end generation.\n",
      " 93%|███████████████████████████████████████████████████████████████████████████      | 328/354 [47:35<04:46, 11.02s/it]Setting `pad_token_id` to `eos_token_id`:128001 for open-end generation.\n",
      " 93%|███████████████████████████████████████████████████████████████████████████▎     | 329/354 [47:46<04:35, 11.02s/it]Setting `pad_token_id` to `eos_token_id`:128001 for open-end generation.\n",
      " 93%|███████████████████████████████████████████████████████████████████████████▌     | 330/354 [47:57<04:24, 11.02s/it]Setting `pad_token_id` to `eos_token_id`:128001 for open-end generation.\n",
      " 94%|███████████████████████████████████████████████████████████████████████████▋     | 331/354 [48:07<04:04, 10.65s/it]Setting `pad_token_id` to `eos_token_id`:128001 for open-end generation.\n",
      " 94%|███████████████████████████████████████████████████████████████████████████▉     | 332/354 [48:20<04:11, 11.43s/it]Setting `pad_token_id` to `eos_token_id`:128001 for open-end generation.\n",
      " 94%|████████████████████████████████████████████████████████████████████████████▏    | 333/354 [48:32<04:00, 11.46s/it]Setting `pad_token_id` to `eos_token_id`:128001 for open-end generation.\n",
      " 94%|████████████████████████████████████████████████████████████████████████████▍    | 334/354 [48:41<03:37, 10.86s/it]Setting `pad_token_id` to `eos_token_id`:128001 for open-end generation.\n",
      " 95%|████████████████████████████████████████████████████████████████████████████▋    | 335/354 [48:52<03:29, 11.00s/it]Setting `pad_token_id` to `eos_token_id`:128001 for open-end generation.\n",
      " 95%|████████████████████████████████████████████████████████████████████████████▉    | 336/354 [49:07<03:36, 12.03s/it]Setting `pad_token_id` to `eos_token_id`:128001 for open-end generation.\n",
      " 95%|█████████████████████████████████████████████████████████████████████████████    | 337/354 [49:29<04:17, 15.16s/it]Setting `pad_token_id` to `eos_token_id`:128001 for open-end generation.\n",
      " 95%|█████████████████████████████████████████████████████████████████████████████▎   | 338/354 [49:30<02:54, 10.92s/it]Setting `pad_token_id` to `eos_token_id`:128001 for open-end generation.\n",
      " 96%|█████████████████████████████████████████████████████████████████████████████▌   | 339/354 [49:41<02:42, 10.86s/it]Setting `pad_token_id` to `eos_token_id`:128001 for open-end generation.\n",
      " 96%|█████████████████████████████████████████████████████████████████████████████▊   | 340/354 [49:57<02:51, 12.22s/it]Setting `pad_token_id` to `eos_token_id`:128001 for open-end generation.\n",
      " 96%|██████████████████████████████████████████████████████████████████████████████   | 341/354 [50:15<03:03, 14.08s/it]Setting `pad_token_id` to `eos_token_id`:128001 for open-end generation.\n",
      " 97%|██████████████████████████████████████████████████████████████████████████████▎  | 342/354 [50:34<03:05, 15.48s/it]Setting `pad_token_id` to `eos_token_id`:128001 for open-end generation.\n",
      " 97%|██████████████████████████████████████████████████████████████████████████████▍  | 343/354 [50:48<02:44, 15.00s/it]Setting `pad_token_id` to `eos_token_id`:128001 for open-end generation.\n",
      " 97%|██████████████████████████████████████████████████████████████████████████████▋  | 344/354 [50:58<02:17, 13.75s/it]Setting `pad_token_id` to `eos_token_id`:128001 for open-end generation.\n",
      " 97%|██████████████████████████████████████████████████████████████████████████████▉  | 345/354 [51:08<01:53, 12.60s/it]Setting `pad_token_id` to `eos_token_id`:128001 for open-end generation.\n",
      " 98%|███████████████████████████████████████████████████████████████████████████████▏ | 346/354 [51:23<01:46, 13.28s/it]Setting `pad_token_id` to `eos_token_id`:128001 for open-end generation.\n",
      " 98%|███████████████████████████████████████████████████████████████████████████████▍ | 347/354 [51:27<01:12, 10.40s/it]Setting `pad_token_id` to `eos_token_id`:128001 for open-end generation.\n",
      " 98%|███████████████████████████████████████████████████████████████████████████████▋ | 348/354 [51:34<00:55,  9.31s/it]Setting `pad_token_id` to `eos_token_id`:128001 for open-end generation.\n",
      " 99%|███████████████████████████████████████████████████████████████████████████████▊ | 349/354 [51:45<00:49,  9.88s/it]Setting `pad_token_id` to `eos_token_id`:128001 for open-end generation.\n",
      " 99%|████████████████████████████████████████████████████████████████████████████████ | 350/354 [51:59<00:44, 11.05s/it]Setting `pad_token_id` to `eos_token_id`:128001 for open-end generation.\n",
      " 99%|████████████████████████████████████████████████████████████████████████████████▎| 351/354 [52:10<00:33, 11.06s/it]Setting `pad_token_id` to `eos_token_id`:128001 for open-end generation.\n",
      " 99%|████████████████████████████████████████████████████████████████████████████████▌| 352/354 [52:11<00:16,  8.24s/it]Setting `pad_token_id` to `eos_token_id`:128001 for open-end generation.\n",
      "100%|████████████████████████████████████████████████████████████████████████████████▊| 353/354 [52:21<00:08,  8.52s/it]Setting `pad_token_id` to `eos_token_id`:128001 for open-end generation.\n",
      "100%|█████████████████████████████████████████████████████████████████████████████████| 354/354 [52:22<00:00,  8.88s/it]\n"
     ]
    }
   ],
   "source": [
    "import re\n",
    "\n",
    "res = {}\n",
    "for pp in tqdm(dev_ds):\n",
    "    inp = alpaca_prompt.format(\n",
    "            instruction, # instruction\n",
    "            pp['possible_answers'], # input\n",
    "            \"\", # output - leave this blank for generation!\n",
    "        )\n",
    "    inputs = tokenizer(\n",
    "    [\n",
    "        inp\n",
    "    ], return_tensors = \"pt\").to(\"cuda\")\n",
    "    \n",
    "    outputs = model.generate(**inputs, max_new_tokens = 64, do_sample=False, use_cache = True, early_stopping=True)\n",
    "    out = tokenizer.batch_decode(outputs)[0]\n",
    "    out = out[len(inp):]\n",
    "    pattern = r'\\{([^}]*)\\}'\n",
    "    match = re.findall(pattern, out)\n",
    "    if len(match) > 0:\n",
    "        ret = match[0]\n",
    "    else:\n",
    "        ret = \"\"\n",
    "\n",
    "    res[pp['question']] = ret"
   ]
  },
  {
   "cell_type": "code",
   "execution_count": 16,
   "id": "85e8ae30-8be9-44d8-a90d-bf277e927234",
   "metadata": {},
   "outputs": [],
   "source": [
    "from copy import copy\n",
    "res_approx = copy(res)"
   ]
  },
  {
   "cell_type": "code",
   "execution_count": 18,
   "id": "916297a7-bfab-4d68-a647-443b92cc4629",
   "metadata": {},
   "outputs": [
    {
     "name": "stdout",
     "output_type": "stream",
     "text": [
      "\n"
     ]
    },
    {
     "name": "stderr",
     "output_type": "stream",
     "text": [
      "100%|█████████████████████████████████████████████████████████████████████████████████| 354/354 [00:48<00:00,  7.32it/s]\n"
     ]
    }
   ],
   "source": [
    "## To possible\n",
    "\n",
    "\n",
    "\n",
    "#model_name=\"sentence-transformers/all-mpnet-base-v2\"\n",
    "\n",
    "tokenizer = AutoTokenizer.from_pretrained(model_name)\n",
    "bert_model = AutoModel.from_pretrained(model_name)\n",
    "bert_model.eval()\n",
    "print()\n",
    "\n",
    "res_approx = copy(res)\n",
    "\n",
    "for question, model_answer in tqdm(res.items()):\n",
    "    answers = dev_df[dev_df.question==question]['answerEntity'].tolist()\n",
    "    if model_answer in answers:\n",
    "        continue\n",
    "    ans_list = [model_answer]+answers\n",
    "    tok = tokenizer(ans_list, return_tensors=\"pt\", truncation=True, padding=\"max_length\")\n",
    "    #tok = {k:v.cuda() for k,v in tok.items()}\n",
    "    last_hidden_states = bert_model(**tok)['last_hidden_state']\n",
    "    text_cls_embeddings = torch.stack([elem[0, :] for elem in last_hidden_states])\n",
    "    scores = text_cls_embeddings[0]@text_cls_embeddings[1:].T / torch.norm(text_cls_embeddings[0]) / torch.norm(text_cls_embeddings[1:],dim=1)\n",
    "    scores = scores.detach().cpu().numpy()\n",
    "    best_idx = np.argmax(scores)\n",
    "    \n",
    "    res_approx[question] = answers[best_idx]\n"
   ]
  },
  {
   "cell_type": "code",
   "execution_count": 19,
   "id": "2560e5cd-2a9a-4305-ad5c-a1bdfeb09213",
   "metadata": {},
   "outputs": [
    {
     "name": "stdout",
     "output_type": "stream",
     "text": [
      "0.11087476734910928\n",
      "0.5107913669064749,0.5590551181102362,0.5338345864661654\n"
     ]
    }
   ],
   "source": [
    "res_df = pd.DataFrame({\n",
    "    'question': list(res_approx.keys()),\n",
    "    'pred_ans': list(res_approx.values())\n",
    "})\n",
    "\n",
    "dev_df2 = dev_df.merge(res_df, on='question', how='left')\n",
    "dev_df2['pred'] = (dev_df2['pred_ans'] == dev_df2['answerEntity']).astype(float)\n",
    "print(dev_df2['pred'].mean())\n",
    "\n",
    "true_labels = dev_df2.label\n",
    "pred_labels = dev_df2.pred\n",
    "\n",
    "print(f\"{precision_score(true_labels, pred_labels)},{recall_score(true_labels, pred_labels)},{f1_score(true_labels, pred_labels)}\")"
   ]
  },
  {
   "cell_type": "code",
   "execution_count": null,
   "id": "5e9efe64-8069-4b8f-95e1-df4cebcde81d",
   "metadata": {},
   "outputs": [],
   "source": []
  },
  {
   "cell_type": "code",
   "execution_count": null,
   "id": "64004268-6d7d-48ee-9ac8-94d83a18aa8f",
   "metadata": {},
   "outputs": [],
   "source": [
    "0.5136476426799007,0.5433070866141733,0.5280612244897959"
   ]
  },
  {
   "cell_type": "code",
   "execution_count": null,
   "id": "bebfc55a-8c0f-4286-9719-3dec942a2d94",
   "metadata": {},
   "outputs": [],
   "source": []
  },
  {
   "cell_type": "code",
   "execution_count": null,
   "id": "b7737c8c-ce30-4263-ac86-94ad5fbacd3d",
   "metadata": {},
   "outputs": [],
   "source": []
  },
  {
   "cell_type": "markdown",
   "id": "517cedee-9a8e-4a31-a52e-74c0af3eeeaa",
   "metadata": {},
   "source": [
    "## Bert train"
   ]
  },
  {
   "cell_type": "code",
   "execution_count": 3,
   "id": "1a168b6d-7901-421f-b591-42940ddc5397",
   "metadata": {},
   "outputs": [
    {
     "name": "stderr",
     "output_type": "stream",
     "text": [
      "/home/razvor/anaconda3/envs/unsloth_env/lib/python3.10/site-packages/transformers/convert_slow_tokenizer.py:560: UserWarning: The sentencepiece tokenizer that you are converting to a fast tokenizer uses the byte fallback option which is not implemented in the fast tokenizers. In practice this means that the fast version of the tokenizer can produce unknown tokens whereas the sentencepiece version would have converted these unknown tokens into a sequence of byte tokens matching the original piece of text.\n",
      "  warnings.warn(\n"
     ]
    },
    {
     "name": "stdout",
     "output_type": "stream",
     "text": [
      "# Trainable params:  14570496\n"
     ]
    }
   ],
   "source": [
    "#model_name=\"sentence-transformers/all-mpnet-base-v2\"\n",
    "model_name = \"microsoft/deberta-v3-base\"\n",
    "\n",
    "tokenizer = AutoTokenizer.from_pretrained(model_name)\n",
    "bert_model = AutoModel.from_pretrained(model_name)\n",
    "\n",
    "freeze_embeddings = True\n",
    "if freeze_embeddings:\n",
    "    for param in bert_model.embeddings.parameters():\n",
    "        param.requires_grad = False\n",
    "\n",
    "freeze_layer_count = 10\n",
    "if freeze_layer_count > 0:\n",
    "    for layer in bert_model.encoder.layer[:freeze_layer_count]:\n",
    "        for param in layer.parameters():\n",
    "            param.requires_grad = False\n",
    "\n",
    "print(\"# Trainable params: \", sum(p.numel() for p in bert_model.parameters() if p.requires_grad))"
   ]
  },
  {
   "cell_type": "code",
   "execution_count": null,
   "id": "0e23b515-f0f1-48b0-825a-1639ac527b28",
   "metadata": {},
   "outputs": [],
   "source": []
  },
  {
   "cell_type": "code",
   "execution_count": 6,
   "id": "de0bfe04-8e85-4784-8913-36f5429aa9c8",
   "metadata": {},
   "outputs": [],
   "source": [
    "#from sentence_transformers import SentenceTransformer\n",
    "#model = SentenceTransformer('sentence-transformers/gtr-t5-xxl')"
   ]
  },
  {
   "cell_type": "code",
   "execution_count": 8,
   "id": "984b066f-2e75-4fab-80d6-ead855af52f6",
   "metadata": {},
   "outputs": [],
   "source": [
    "train_df['graph'] = train_df.graph.apply(eval)\n",
    "dev_df['graph'] = dev_df.graph.apply(eval)\n",
    "\n",
    "sep = tokenizer.sep_token\n",
    "linearize_graph = linearize_graph_gen(sep)\n",
    "train_df[\"linearized_graph\"] = train_df[\"graph\"].apply(linearize_graph)\n",
    "dev_df[\"linearized_graph\"] = dev_df[\"graph\"].apply(linearize_graph)\n",
    "#test_df[\"linearized_graph\"] = test_df[\"graph\"].apply(linearize_graph)"
   ]
  },
  {
   "cell_type": "code",
   "execution_count": 5,
   "id": "7944fd8f-ce7d-4c19-9601-ff9183461430",
   "metadata": {},
   "outputs": [],
   "source": [
    "#train_df"
   ]
  },
  {
   "cell_type": "code",
   "execution_count": 9,
   "id": "7d984c8a-f425-4d37-8817-e11fc31c9d56",
   "metadata": {},
   "outputs": [],
   "source": [
    "def context_text(df):\n",
    "    #print(df)\n",
    "    ctx = \"\"\" Expert: {}. Graph: {}\"\"\"\n",
    "    return ctx.format(df['expert1'], df['linearized_graph'])\n",
    "\n",
    "train_df['context_with_e'] = train_df.apply(context_text, axis=1)\n",
    "dev_df['context_with_e'] = dev_df.apply(context_text, axis=1)"
   ]
  },
  {
   "cell_type": "code",
   "execution_count": 10,
   "id": "64483530-46fd-42b0-a82f-9e54ac2fef0c",
   "metadata": {},
   "outputs": [],
   "source": [
    "max_length = 512\n",
    "train_dataset = QuestionAnswerDataset(train_df, tokenizer=tokenizer, max_length=max_length, context_key=\"context_with_e\",\n",
    "                                      tokenizer_truncation=\"only_second\", add_meta = None)\n",
    "dev_dataset = QuestionAnswerDataset(dev_df, tokenizer=tokenizer, max_length=max_length, context_key=\"context_with_e\",\n",
    "                                    tokenizer_truncation=\"only_second\", add_meta = None)\n",
    "#test_dataset = QuestionAnswerDataset(test_df, tokenizer=tokenizer, max_length=max_length, context_key=\"linearized_graph\",\n",
    "#                                     tokenizer_truncation=\"only_second\", add_meta = None)"
   ]
  },
  {
   "cell_type": "code",
   "execution_count": 17,
   "id": "84225d84-a7e4-47c9-8f2a-cb785d3f9c1a",
   "metadata": {},
   "outputs": [],
   "source": [
    "batch_size = 16\n",
    "num_workers = 0\n",
    "\n",
    "train_loader = torch.utils.data.DataLoader(\n",
    "    train_dataset, batch_size=batch_size, num_workers=num_workers, shuffle=True, drop_last=True,\n",
    ")\n",
    "dev_loader = torch.utils.data.DataLoader(\n",
    "    dev_dataset, batch_size=batch_size, num_workers=num_workers, shuffle=False, drop_last=False,\n",
    ")\n",
    "#test_loader = torch.utils.data.DataLoader(\n",
    "#    test_dataset, batch_size=batch_size, num_workers=num_workers, shuffle=False, drop_last=False,\n",
    "#)"
   ]
  },
  {
   "cell_type": "code",
   "execution_count": 12,
   "id": "1c3e7206-ca47-448c-949e-62c049a9d4c7",
   "metadata": {},
   "outputs": [],
   "source": [
    "N_EPOCHS = 10\n",
    "DROPOUT = 0.1"
   ]
  },
  {
   "cell_type": "code",
   "execution_count": 13,
   "id": "8aa229a1-8b72-416f-a591-31d5ab684298",
   "metadata": {},
   "outputs": [],
   "source": [
    "bert_linearized_graph_clf = BertSimpleClassifier(bert_model, dropout=DROPOUT, add_meta = None).to(device)\n",
    "optimizer = optim.Adam(bert_linearized_graph_clf.parameters(), lr=3e-5)\n",
    "scheduler = None #optim.lr_scheduler.CosineAnnealingLR(optimizer, T_max=5)\n",
    "criterion = nn.BCEWithLogitsLoss()"
   ]
  },
  {
   "cell_type": "code",
   "execution_count": 18,
   "id": "081d64f3-17fa-4133-8d49-cd80b599c733",
   "metadata": {},
   "outputs": [
    {
     "data": {
      "image/png": "[encoded data removed]",
      "text/plain": [
       "<Figure size 1200x800 with 2 Axes>"
      ]
     },
     "metadata": {},
     "output_type": "display_data"
    },
    {
     "name": "stdout",
     "output_type": "stream",
     "text": [
      "Epoch: 10 | Time: 15m 21s\n",
      "\tTrain Loss: 0.069\n",
      "\t Val. Loss: 0.168 |  Val. F1: 0.699\n"
     ]
    }
   ],
   "source": [
    "train_evaluate(bert_linearized_graph_clf, train_loader, dev_loader, optimizer, scheduler,\n",
    "               criterion, N_EPOCHS, \"bert_linearized_graph_clf\", device)"
   ]
  },
  {
   "cell_type": "code",
   "execution_count": null,
   "id": "b2bedef3-f732-4714-8964-c8f37260569b",
   "metadata": {},
   "outputs": [],
   "source": []
  },
  {
   "cell_type": "code",
   "execution_count": null,
   "id": "feeaeb94-13db-4aca-95e6-c6b70fbe6281",
   "metadata": {
    "scrolled": true
   },
   "outputs": [],
   "source": []
  },
  {
   "cell_type": "code",
   "execution_count": 39,
   "id": "e07bba66-d188-45ef-b291-0fa188c11521",
   "metadata": {},
   "outputs": [
    {
     "name": "stdout",
     "output_type": "stream",
     "text": [
      "0.8197879858657244,0.6089238845144357,0.6987951807228916\n"
     ]
    }
   ],
   "source": [
    "true_labels, pred_labels, pred_probas = predict(bert_linearized_graph_clf, dev_loader, device)\n",
    "print(f\"{precision_score(true_labels, pred_labels)},{recall_score(true_labels, pred_labels)},{f1_score(true_labels, pred_labels)}\")"
   ]
  },
  {
   "cell_type": "code",
   "execution_count": null,
   "id": "6ca05f71-0af5-4b67-89f7-f4eca6072458",
   "metadata": {},
   "outputs": [],
   "source": []
  },
  {
   "cell_type": "code",
   "execution_count": 41,
   "id": "72301472-4063-4304-a498-29ac40efa2b2",
   "metadata": {},
   "outputs": [],
   "source": [
    "gc.collect()\n",
    "torch.cuda.empty_cache()"
   ]
  },
  {
   "cell_type": "code",
   "execution_count": null,
   "id": "79998cc7-7861-48b6-9caa-0874a9a621ba",
   "metadata": {},
   "outputs": [],
   "source": []
  },
  {
   "cell_type": "code",
   "execution_count": 32,
   "id": "be041885-27d5-48f7-acde-f29c3719993d",
   "metadata": {},
   "outputs": [],
   "source": []
  },
  {
   "cell_type": "code",
   "execution_count": null,
   "id": "468b073b-5412-4820-88d2-234ab05c9ddc",
   "metadata": {},
   "outputs": [],
   "source": []
  },
  {
   "cell_type": "code",
   "execution_count": null,
   "id": "fd56aaa3-04f2-4723-8120-fa649eb52b02",
   "metadata": {},
   "outputs": [],
   "source": []
  },
  {
   "cell_type": "code",
   "execution_count": null,
   "id": "dfd7727b-d975-4035-873c-fa9a38550a9c",
   "metadata": {},
   "outputs": [],
   "source": []
  }
 ],
 "metadata": {
  "kernelspec": {
   "display_name": "Python 3 (ipykernel)",
   "language": "python",
   "name": "python3"
  },
  "language_info": {
   "codemirror_mode": {
    "name": "ipython",
    "version": 3
   },
   "file_extension": ".py",
   "mimetype": "text/x-python",
   "name": "python",
   "nbconvert_exporter": "python",
   "pygments_lexer": "ipython3",
   "version": "3.10.14"
  }
 },
 "nbformat": 4,
 "nbformat_minor": 5
}
